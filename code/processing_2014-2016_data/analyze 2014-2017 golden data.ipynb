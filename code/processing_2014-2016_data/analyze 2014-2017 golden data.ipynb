{
 "cells": [
  {
   "cell_type": "code",
   "execution_count": null,
   "metadata": {
    "collapsed": true
   },
   "outputs": [],
   "source": [
    "items:\n",
    "    * per year, train/eval\n",
    "        per language, per wise,per type, NIL or not ,NAM/NOM\n",
    "    "
   ]
  },
  {
   "cell_type": "code",
   "execution_count": 18,
   "metadata": {
    "collapsed": true
   },
   "outputs": [],
   "source": [
    "import pandas as pd"
   ]
  },
  {
   "cell_type": "code",
   "execution_count": 57,
   "metadata": {},
   "outputs": [],
   "source": [
    "def tab_paser(dirpath):\n",
    "    mention_ID = []\n",
    "    file_ID = []\n",
    "    language = []\n",
    "    doc_type = []\n",
    "    entity_type = []\n",
    "    mention_type = []\n",
    "    if_NIL = []\n",
    "    with open(dirpath,'r') as f_read:\n",
    "        count = 0\n",
    "        content = f_read.read().splitlines()\n",
    "        for line in content:\n",
    "            if line:\n",
    "                token = line.split('\\t')\n",
    "                count += 1\n",
    "                mention_ID.append(count)\n",
    "#                 print(token)\n",
    "                file_ID.append(token[3].split(':')[0])\n",
    "                tmp = token[3][:6]\n",
    "                if tmp == 'CMN_DF':\n",
    "                    language.append('CMN')\n",
    "                    doc_type.append('DF')\n",
    "                elif tmp == 'CMN_NW':\n",
    "                    language.append('CMN')\n",
    "                    doc_type.append('NW')\n",
    "                elif tmp == 'SPA_DF':\n",
    "                    language.append('SPA')\n",
    "                    doc_type.append('DF')\n",
    "                elif tmp == 'SPA_NW':\n",
    "                    language.append('SPA')\n",
    "                    doc_type.append('NW')                    \n",
    "                elif tmp == 'ENG_DF':\n",
    "                    language.append('ENG')\n",
    "                    doc_type.append('DF')\n",
    "                elif tmp == 'ENG_NW' or tmp == 'NYT_EN':\n",
    "                    language.append('ENG')\n",
    "                    doc_type.append('NW')\n",
    "                else:\n",
    "                    language.append(0)\n",
    "                    doc_type.append(0)                    \n",
    "                    \n",
    "                entity_type.append(token[5])\n",
    "                mention_type.append(token[6])\n",
    "                if token[4][:3] == 'NIL':\n",
    "                    if_NIL.append(1)\n",
    "                else:\n",
    "                    if_NIL.append(0)\n",
    "                    \n",
    "        df = pd.DataFrame({'mention_ID':mention_ID,'file_ID':file_ID,\n",
    "                              'language':language,'doc_type':doc_type,\n",
    "                              'entity_type':entity_type,'mention_type':mention_type, 'if_NIL': if_NIL})\n",
    "        return df\n"
   ]
  },
  {
   "cell_type": "code",
   "execution_count": 58,
   "metadata": {
    "scrolled": false
   },
   "outputs": [],
   "source": [
    "dirpath = '/Users/liangjianzhong/Desktop/internship/EDL-2018/code/processing 2014-2017 data/tac_kbp_2016_edl_evaluation_gold_standard_entity_mentions.tab'\n",
    "df1 = tab_paser(dirpath)\n"
   ]
  },
  {
   "cell_type": "code",
   "execution_count": 62,
   "metadata": {},
   "outputs": [
    {
     "data": {
      "text/html": [
       "<div>\n",
       "<style>\n",
       "    .dataframe thead tr:only-child th {\n",
       "        text-align: right;\n",
       "    }\n",
       "\n",
       "    .dataframe thead th {\n",
       "        text-align: left;\n",
       "    }\n",
       "\n",
       "    .dataframe tbody tr th {\n",
       "        vertical-align: top;\n",
       "    }\n",
       "</style>\n",
       "<table border=\"1\" class=\"dataframe\">\n",
       "  <thead>\n",
       "    <tr style=\"text-align: right;\">\n",
       "      <th></th>\n",
       "      <th>doc_type</th>\n",
       "      <th>entity_type</th>\n",
       "      <th>file_ID</th>\n",
       "      <th>if_NIL</th>\n",
       "      <th>language</th>\n",
       "      <th>mention_ID</th>\n",
       "      <th>mention_type</th>\n",
       "    </tr>\n",
       "  </thead>\n",
       "  <tbody>\n",
       "  </tbody>\n",
       "</table>\n",
       "</div>"
      ],
      "text/plain": [
       "Empty DataFrame\n",
       "Columns: [doc_type, entity_type, file_ID, if_NIL, language, mention_ID, mention_type]\n",
       "Index: []"
      ]
     },
     "execution_count": 62,
     "metadata": {},
     "output_type": "execute_result"
    }
   ],
   "source": [
    "df1[df1['doc_type']==0]"
   ]
  },
  {
   "cell_type": "code",
   "execution_count": null,
   "metadata": {
    "collapsed": true
   },
   "outputs": [],
   "source": [
    "count entity, entity per type, mention type, "
   ]
  },
  {
   "cell_type": "code",
   "execution_count": null,
   "metadata": {
    "collapsed": true
   },
   "outputs": [],
   "source": [
    "document per wise per language"
   ]
  },
  {
   "cell_type": "markdown",
   "metadata": {},
   "source": [
    "average_entity per doc per languge"
   ]
  },
  {
   "cell_type": "code",
   "execution_count": null,
   "metadata": {
    "collapsed": true
   },
   "outputs": [],
   "source": [
    "count NIL per language per wise"
   ]
  },
  {
   "cell_type": "code",
   "execution_count": 77,
   "metadata": {},
   "outputs": [
    {
     "data": {
      "text/plain": [
       "language  doc_type\n",
       "CMN       DF          82\n",
       "          NW          85\n",
       "ENG       DF          84\n",
       "          NW          84\n",
       "SPA       DF          85\n",
       "          NW          83\n",
       "Name: file_ID, dtype: int64"
      ]
     },
     "execution_count": 77,
     "metadata": {},
     "output_type": "execute_result"
    }
   ],
   "source": [
    "df1.groupby(['language','doc_type'])['file_ID'].nunique()"
   ]
  },
  {
   "cell_type": "code",
   "execution_count": 82,
   "metadata": {},
   "outputs": [
    {
     "name": "stdout",
     "output_type": "stream",
     "text": [
      "/Users/liangjianzhong/Desktop/internship/EDL-2018/code\r\n"
     ]
    }
   ],
   "source": [
    "! pwd"
   ]
  },
  {
   "cell_type": "code",
   "execution_count": 81,
   "metadata": {},
   "outputs": [
    {
     "data": {
      "text/plain": [
       "503"
      ]
     },
     "execution_count": 81,
     "metadata": {},
     "output_type": "execute_result"
    }
   ],
   "source": [
    "df1['file_ID'].nunique()"
   ]
  },
  {
   "cell_type": "code",
   "execution_count": 80,
   "metadata": {},
   "outputs": [
    {
     "data": {
      "text/plain": [
       "503"
      ]
     },
     "execution_count": 80,
     "metadata": {},
     "output_type": "execute_result"
    }
   ],
   "source": [
    "sum(df1.groupby(['language','doc_type'])['file_ID'].nunique().tolist())"
   ]
  },
  {
   "cell_type": "code",
   "execution_count": 47,
   "metadata": {},
   "outputs": [
    {
     "data": {
      "text/plain": [
       "'SPA_DF'"
      ]
     },
     "execution_count": 47,
     "metadata": {},
     "output_type": "execute_result"
    }
   ],
   "source": [
    "ss = 'SPA_DF_001253_20130321_G00A0GUZ3:2293-2298'\n",
    "ss[:6]"
   ]
  },
  {
   "cell_type": "code",
   "execution_count": null,
   "metadata": {
    "collapsed": true
   },
   "outputs": [],
   "source": [
    "s"
   ]
  },
  {
   "cell_type": "code",
   "execution_count": null,
   "metadata": {
    "collapsed": true
   },
   "outputs": [],
   "source": []
  }
 ],
 "metadata": {
  "kernelspec": {
   "display_name": "Python 3",
   "language": "python",
   "name": "python3"
  },
  "language_info": {
   "codemirror_mode": {
    "name": "ipython",
    "version": 3
   },
   "file_extension": ".py",
   "mimetype": "text/x-python",
   "name": "python",
   "nbconvert_exporter": "python",
   "pygments_lexer": "ipython3",
   "version": "3.6.3"
  }
 },
 "nbformat": 4,
 "nbformat_minor": 2
}
