{
 "cells": [
  {
   "cell_type": "code",
   "execution_count": 12,
   "metadata": {},
   "outputs": [],
   "source": [
    "import tensorflow as tf\n",
    "import numpy as np"
   ]
  },
  {
   "cell_type": "code",
   "execution_count": 2,
   "metadata": {},
   "outputs": [
    {
     "data": {
      "text/plain": [
       "'1.14.5'"
      ]
     },
     "execution_count": 2,
     "metadata": {},
     "output_type": "execute_result"
    }
   ],
   "source": [
    "import numpy\n",
    "numpy.version.version\n"
   ]
  },
  {
   "cell_type": "code",
   "execution_count": 3,
   "metadata": {},
   "outputs": [
    {
     "name": "stdout",
     "output_type": "stream",
     "text": [
      "Requirement already satisfied: numpy==1.14.5 in /Users/liangjianzhong/anaconda3/lib/python3.6/site-packages (1.14.5)\r\n"
     ]
    }
   ],
   "source": []
  },
  {
   "cell_type": "code",
   "execution_count": 9,
   "metadata": {},
   "outputs": [],
   "source": [
    "b = tf.Variable(tf.zeros(100))\n",
    "W = tf.Variable(tf.random_uniform((784,100),-1,1))\n",
    "x = tf.placeholder(tf.float32, (100,784))\n",
    "h = tf.nn.relu(tf.matmul(x,W)+b)\n"
   ]
  },
  {
   "cell_type": "code",
   "execution_count": 11,
   "metadata": {},
   "outputs": [
    {
     "data": {
      "text/plain": [
       "[<tf.Operation 'zeros/shape_as_tensor' type=Const>,\n",
       " <tf.Operation 'zeros/Const' type=Const>,\n",
       " <tf.Operation 'zeros' type=Fill>,\n",
       " <tf.Operation 'Variable' type=VariableV2>,\n",
       " <tf.Operation 'Variable/Assign' type=Assign>,\n",
       " <tf.Operation 'Variable/read' type=Identity>,\n",
       " <tf.Operation 'random_uniform/shape' type=Const>,\n",
       " <tf.Operation 'random_uniform/min' type=Const>,\n",
       " <tf.Operation 'random_uniform/max' type=Const>,\n",
       " <tf.Operation 'random_uniform/RandomUniform' type=RandomUniform>,\n",
       " <tf.Operation 'random_uniform/sub' type=Sub>,\n",
       " <tf.Operation 'random_uniform/mul' type=Mul>,\n",
       " <tf.Operation 'random_uniform' type=Add>,\n",
       " <tf.Operation 'Variable_1' type=VariableV2>,\n",
       " <tf.Operation 'Variable_1/Assign' type=Assign>,\n",
       " <tf.Operation 'Variable_1/read' type=Identity>,\n",
       " <tf.Operation 'Placeholder' type=Placeholder>,\n",
       " <tf.Operation 'MatMul' type=MatMul>,\n",
       " <tf.Operation 'add' type=Add>,\n",
       " <tf.Operation 'Relu' type=Relu>]"
      ]
     },
     "execution_count": 11,
     "metadata": {},
     "output_type": "execute_result"
    }
   ],
   "source": [
    "tf.get_default_graph().get_operations()"
   ]
  },
  {
   "cell_type": "code",
   "execution_count": 26,
   "metadata": {},
   "outputs": [
    {
     "name": "stdout",
     "output_type": "stream",
     "text": [
      "None\n",
      "[[ 0.         16.1947      5.279145   ...  4.7467175   0.\n",
      "   0.        ]\n",
      " [ 0.         26.004883    6.4393716  ...  0.          0.\n",
      "   0.97152835]\n",
      " [ 0.         20.151192   11.046973   ...  4.649555    0.\n",
      "   0.        ]\n",
      " ...\n",
      " [ 0.          8.803308    2.136807   ... 14.632132    3.5834846\n",
      "   0.        ]\n",
      " [ 0.         22.101067    4.757223   ...  0.          0.\n",
      "   0.        ]\n",
      " [ 0.         11.332206    0.94634795 ...  6.173396    2.3821378\n",
      "   0.        ]]\n"
     ]
    }
   ],
   "source": [
    "# CPU or GPU\n",
    "sess = tf.Session() \n",
    "print (sess.run(tf.global_variables_initializer()))\n",
    "# fetches, feeds\n",
    "\n",
    "print(sess.run(h, {x: np.random.random([100,784])}))"
   ]
  },
  {
   "cell_type": "code",
   "execution_count": 25,
   "metadata": {},
   "outputs": [
    {
     "ename": "TypeError",
     "evalue": "softmax() missing 1 required positional argument: 'logits'",
     "output_type": "error",
     "traceback": [
      "\u001b[0;31m---------------------------------------------------------------------------\u001b[0m",
      "\u001b[0;31mTypeError\u001b[0m                                 Traceback (most recent call last)",
      "\u001b[0;32m<ipython-input-25-8de2a95f4295>\u001b[0m in \u001b[0;36m<module>\u001b[0;34m()\u001b[0m\n\u001b[1;32m      1\u001b[0m \u001b[0;31m# define the loss\u001b[0m\u001b[0;34m\u001b[0m\u001b[0;34m\u001b[0m\u001b[0m\n\u001b[0;32m----> 2\u001b[0;31m \u001b[0mprediction\u001b[0m \u001b[0;34m=\u001b[0m \u001b[0mtf\u001b[0m\u001b[0;34m.\u001b[0m\u001b[0mnn\u001b[0m\u001b[0;34m.\u001b[0m\u001b[0msoftmax\u001b[0m\u001b[0;34m(\u001b[0m\u001b[0;34m)\u001b[0m\u001b[0;34m\u001b[0m\u001b[0m\n\u001b[0m\u001b[1;32m      3\u001b[0m \u001b[0mlabel\u001b[0m \u001b[0;34m=\u001b[0m \u001b[0mtf\u001b[0m\u001b[0;34m.\u001b[0m\u001b[0mplaceholder\u001b[0m\u001b[0;34m(\u001b[0m\u001b[0mtf\u001b[0m\u001b[0;34m.\u001b[0m\u001b[0mfloat32\u001b[0m\u001b[0;34m,\u001b[0m \u001b[0;34m[\u001b[0m\u001b[0;36m100\u001b[0m\u001b[0;34m,\u001b[0m\u001b[0;36m10\u001b[0m\u001b[0;34m]\u001b[0m\u001b[0;34m)\u001b[0m\u001b[0;34m\u001b[0m\u001b[0m\n\u001b[1;32m      4\u001b[0m \u001b[0mcross_entropy\u001b[0m \u001b[0;34m=\u001b[0m \u001b[0;34m-\u001b[0m \u001b[0mtf\u001b[0m\u001b[0;34m.\u001b[0m\u001b[0mreduce_sum\u001b[0m\u001b[0;34m(\u001b[0m\u001b[0mlabel\u001b[0m \u001b[0;34m*\u001b[0m \u001b[0mtf\u001b[0m\u001b[0;34m.\u001b[0m\u001b[0mlog\u001b[0m\u001b[0;34m(\u001b[0m\u001b[0mprediction\u001b[0m\u001b[0;34m)\u001b[0m\u001b[0;34m,\u001b[0m \u001b[0maxis\u001b[0m \u001b[0;34m=\u001b[0m\u001b[0;36m1\u001b[0m\u001b[0;34m)\u001b[0m\u001b[0;34m\u001b[0m\u001b[0m\n",
      "\u001b[0;32m~/anaconda3/lib/python3.6/site-packages/tensorflow/python/util/deprecation.py\u001b[0m in \u001b[0;36mnew_func\u001b[0;34m(*args, **kwargs)\u001b[0m\n\u001b[1;32m    452\u001b[0m                 \u001b[0;34m'in a future version'\u001b[0m \u001b[0;32mif\u001b[0m \u001b[0mdate\u001b[0m \u001b[0;32mis\u001b[0m \u001b[0;32mNone\u001b[0m \u001b[0;32melse\u001b[0m \u001b[0;34m(\u001b[0m\u001b[0;34m'after %s'\u001b[0m \u001b[0;34m%\u001b[0m \u001b[0mdate\u001b[0m\u001b[0;34m)\u001b[0m\u001b[0;34m,\u001b[0m\u001b[0;34m\u001b[0m\u001b[0m\n\u001b[1;32m    453\u001b[0m                 instructions)\n\u001b[0;32m--> 454\u001b[0;31m       \u001b[0;32mreturn\u001b[0m \u001b[0mfunc\u001b[0m\u001b[0;34m(\u001b[0m\u001b[0;34m*\u001b[0m\u001b[0margs\u001b[0m\u001b[0;34m,\u001b[0m \u001b[0;34m**\u001b[0m\u001b[0mkwargs\u001b[0m\u001b[0;34m)\u001b[0m\u001b[0;34m\u001b[0m\u001b[0m\n\u001b[0m\u001b[1;32m    455\u001b[0m     return tf_decorator.make_decorator(func, new_func, 'deprecated',\n\u001b[1;32m    456\u001b[0m                                        _add_deprecated_arg_notice_to_docstring(\n",
      "\u001b[0;31mTypeError\u001b[0m: softmax() missing 1 required positional argument: 'logits'"
     ]
    }
   ],
   "source": [
    "# define the loss\n",
    "prediction = tf.nn.softmax(h)\n",
    "label = tf.placeholder(tf.float32, [100,10])\n",
    "cross_entropy = - tf.reduce_sum(label * tf.log(prediction), axis =1)"
   ]
  },
  {
   "cell_type": "code",
   "execution_count": null,
   "metadata": {
    "collapsed": true
   },
   "outputs": [],
   "source": [
    "# compute the gradient\n",
    "train_step = tf.train.GradientDescentOptimizer(0.5).minimize(cross_entropy)"
   ]
  },
  {
   "cell_type": "code",
   "execution_count": null,
   "metadata": {
    "collapsed": true
   },
   "outputs": [],
   "source": [
    "# iteration\n",
    "for i in range(100):\n",
    "    batch_x, batch_label = data.next_batch()\n",
    "    sess.run(train_step, feed_dict = { x: batch_x, label : batch_label})\n",
    "             "
   ]
  },
  {
   "cell_type": "code",
   "execution_count": null,
   "metadata": {
    "collapsed": true
   },
   "outputs": [],
   "source": []
  },
  {
   "cell_type": "code",
   "execution_count": 36,
   "metadata": {},
   "outputs": [],
   "source": [
    "p = np.array(range(100)).reshape(10,10)\n",
    "y = np.array(range(10))"
   ]
  },
  {
   "cell_type": "code",
   "execution_count": 37,
   "metadata": {},
   "outputs": [
    {
     "name": "stdout",
     "output_type": "stream",
     "text": [
      "[0 1 2 3 4 5 6 7 8 9]\n",
      "[[ 0  1  2  3  4  5  6  7  8  9]\n",
      " [10 11 12 13 14 15 16 17 18 19]\n",
      " [20 21 22 23 24 25 26 27 28 29]\n",
      " [30 31 32 33 34 35 36 37 38 39]\n",
      " [40 41 42 43 44 45 46 47 48 49]\n",
      " [50 51 52 53 54 55 56 57 58 59]\n",
      " [60 61 62 63 64 65 66 67 68 69]\n",
      " [70 71 72 73 74 75 76 77 78 79]\n",
      " [80 81 82 83 84 85 86 87 88 89]\n",
      " [90 91 92 93 94 95 96 97 98 99]]\n"
     ]
    }
   ],
   "source": [
    "print(y)\n",
    "print(p)"
   ]
  },
  {
   "cell_type": "code",
   "execution_count": 38,
   "metadata": {},
   "outputs": [
    {
     "data": {
      "text/plain": [
       "array([ 0, 11, 22, 33, 44, 55, 66, 77, 88, 99])"
      ]
     },
     "execution_count": 38,
     "metadata": {},
     "output_type": "execute_result"
    }
   ],
   "source": [
    "p[range(10),y]"
   ]
  },
  {
   "cell_type": "code",
   "execution_count": 1,
   "metadata": {},
   "outputs": [
    {
     "name": "stderr",
     "output_type": "stream",
     "text": [
      "/Users/liangjianzhong/anaconda3/lib/python3.6/site-packages/h5py/__init__.py:34: FutureWarning: Conversion of the second argument of issubdtype from `float` to `np.floating` is deprecated. In future, it will be treated as `np.float64 == np.dtype(float).type`.\n",
      "  from ._conv import register_converters as _register_converters\n"
     ]
    }
   ],
   "source": [
    "import numpy as np\n",
    "import tensorflow as tf \n",
    "import matplotlib \n",
    "from matplotlib import pyplot as plt \n",
    "\n",
    "def generate_dataset():\n",
    "    # y = 2x + e\n",
    "    # where e is sample from normal distribution \n",
    "    x_batch = np.linspace(-2,2,100)\n",
    "    y_batch = 2 * x_batch + np.random.random(x_batch.shape) * 4\n",
    "    return x_batch, y_batch\n",
    "\n",
    "# the tensorflow graph\n",
    "def linear_regression():\n",
    "    # have None as the shape make it more general\n",
    "    x = tf.placeholder(tf.float32, shape=(None, ), name = 'x')\n",
    "    y = tf.placeholder(tf.float32, shape=(None, ), name = 'y')\n",
    "\n",
    "    with tf.variable_scope ('lreg') as scope:\n",
    "        w = tf.Variable(np.random.normal(), name = 'W')\n",
    "        b = tf.Variable(np.random.normal(), name = 'B')\n",
    "        y_pred = tf.multiply(w, x) + b\n",
    "        loss = tf.reduce_mean(tf.square(y - y_pred))\n",
    "    return x, y, y_pred, loss\n",
    "\n",
    "def run():\n",
    "    x_batch, y_batch = generate_dataset()\n",
    "    ####\n",
    "    x, y, y_pred, loss = linear_regression()\n",
    "    optimizer = tf.train.GradientDescentOptimizer(0.1).minimize(loss)\n",
    "    init = tf.global_variables_initializer()\n",
    "    with tf.Session() as sess:\n",
    "        sess.run(init)\n",
    "        feed_dict = {x:x_batch, y: y_batch}\n",
    "        plt.figure(figsize = [9,9])\n",
    "        for i in range(50):\n",
    "            loss_val,y_pred_batch, _ = sess.run([loss,y_pred, optimizer], feed_dict)\n",
    "            print('loss:', loss_val.mean())\n",
    "            if i %10 == 0:\n",
    "                plt.plot(x_batch, y_pred_batch, label = i)\n",
    "        ##### we could extract some intermediter values by just run, but not update, so not optimizer and y_batch\n",
    "        y_pred_batch = sess.run(y_pred, {x: x_batch})\n",
    "    plt.scatter(x_batch, y_batch)\n",
    "    plt.plot(x_batch, y_pred_batch, label = \"final\")\n",
    "    plt.legend()\n",
    "    plt.show()"
   ]
  },
  {
   "cell_type": "code",
   "execution_count": 2,
   "metadata": {},
   "outputs": [
    {
     "name": "stdout",
     "output_type": "stream",
     "text": [
      "loss: 7.148805\n",
      "loss: 4.827264\n",
      "loss: 3.4806309\n",
      "loss: 2.6925237\n",
      "loss: 2.2272098\n",
      "loss: 1.9501146\n",
      "loss: 1.7837455\n",
      "loss: 1.6830837\n",
      "loss: 1.6217408\n",
      "loss: 1.5841144\n",
      "loss: 1.5608983\n",
      "loss: 1.5464985\n",
      "loss: 1.5375257\n",
      "loss: 1.5319116\n",
      "loss: 1.528387\n",
      "loss: 1.5261673\n",
      "loss: 1.524766\n",
      "loss: 1.5238789\n",
      "loss: 1.5233169\n",
      "loss: 1.5229601\n",
      "loss: 1.522733\n",
      "loss: 1.5225888\n",
      "loss: 1.5224968\n",
      "loss: 1.522438\n",
      "loss: 1.5224009\n",
      "loss: 1.5223767\n",
      "loss: 1.5223613\n",
      "loss: 1.5223515\n",
      "loss: 1.5223455\n",
      "loss: 1.5223415\n",
      "loss: 1.522339\n",
      "loss: 1.5223373\n",
      "loss: 1.5223365\n",
      "loss: 1.5223358\n",
      "loss: 1.5223352\n",
      "loss: 1.5223349\n",
      "loss: 1.5223346\n",
      "loss: 1.5223347\n",
      "loss: 1.5223345\n",
      "loss: 1.5223346\n",
      "loss: 1.5223345\n",
      "loss: 1.5223346\n",
      "loss: 1.5223346\n",
      "loss: 1.5223346\n",
      "loss: 1.5223343\n",
      "loss: 1.5223345\n",
      "loss: 1.5223345\n",
      "loss: 1.5223345\n",
      "loss: 1.5223343\n",
      "loss: 1.5223343\n"
     ]
    },
    {
     "data": {
      "image/png": "[encoded data removed]",
      "text/plain": [
       "<matplotlib.figure.Figure at 0x1819634940>"
      ]
     },
     "metadata": {},
     "output_type": "display_data"
    }
   ],
   "source": [
    "run()"
   ]
  },
  {
   "cell_type": "code",
   "execution_count": 81,
   "metadata": {},
   "outputs": [
    {
     "data": {
      "text/plain": [
       "array([False, False, False, False, False, False, False, False, False,\n",
       "       False, False, False, False, False, False, False, False, False,\n",
       "       False, False, False, False, False, False, False, False, False,\n",
       "       False, False, False, False, False, False, False, False, False,\n",
       "       False, False, False, False, False, False, False, False, False,\n",
       "       False, False, False, False, False, False, False, False, False,\n",
       "       False, False, False, False, False, False, False, False, False,\n",
       "       False, False, False, False, False, False, False, False, False,\n",
       "       False, False, False, False, False, False, False, False, False,\n",
       "       False, False, False, False, False, False, False, False, False,\n",
       "       False, False, False, False, False, False, False, False, False,\n",
       "       False])"
      ]
     },
     "execution_count": 81,
     "metadata": {},
     "output_type": "execute_result"
    }
   ],
   "source": [
    "np.random.random(100) < 0"
   ]
  },
  {
   "cell_type": "code",
   "execution_count": 15,
   "metadata": {
    "collapsed": true
   },
   "outputs": [],
   "source": [
    "from nltk.tokenize.util import xml_escape\n",
    "from nltk.corpus.reader.xmldocs import XMLCorpusReader"
   ]
  },
  {
   "cell_type": "code",
   "execution_count": 11,
   "metadata": {},
   "outputs": [],
   "source": [
    "with open('ENG_DF_001503_20160415_G00A0AA3J.xml', 'r') as myfile:\n",
    "    data=myfile.read()"
   ]
  },
  {
   "cell_type": "code",
   "execution_count": 13,
   "metadata": {
    "scrolled": true
   },
   "outputs": [
    {
     "data": {
      "text/plain": [
       "'&lt;doc id=&quot;ENG_DF_001503_20160415_G00A0AA3J&quot;&gt;\\n&lt;headline&gt;\\nMoved to France 6 months ago and love it but...\\n&lt;/headline&gt;\\n&lt;post author=&quot;Kimntheo11&quot; datetime=&quot;2016-04-15T12:16:00&quot; id=&quot;p1&quot;&gt;\\n&lt;img src=&quot;http://britishexpats.com/forum/images/smilies/fingerscrossed.gif&quot;/&gt; hiya everyone. I&apos;m here for help and a new community network.\\nIs this forum easy to navigate?\\nI see it&apos;s got every country advertised. How do I just get posts for France?\\nI&apos;m taking French lessons to improve my French speach but its going slow.\\nMy son is 5 years old and has been at the local school for 6 months and he understands 90% of French he hears. With I could get as much French spoken to me as he does.\\nThe but... In my title is I&apos;m struggling for work. I&apos;m willing to do anything. I live with my parents and we are moving further south in a few months. Wondering if anyone on here is in the Charente maritime area of France and can give any advice on any thing in the area please. &lt;img src=&quot;http://britishexpats.com/forum/images/smilies/confused.gif&quot;/&gt;\\n&lt;/post&gt;\\n&lt;post author=&quot;bakedbean&quot; datetime=&quot;2016-04-15T12:33:00&quot; id=&quot;p2&quot;&gt;\\nHello and welcome to the forum &lt;img src=&quot;http://britishexpats.com/forum/images/smilies/wave.gif&quot;/&gt;\\n\\nI see you&apos;ve now posted in the France section of the forum so shall leave you to it. That&apos;s the place to ask questions re France.\\n&lt;/post&gt;\\n&lt;post author=&quot;Jerseygirl&quot; datetime=&quot;2016-04-15T13:01:00&quot; id=&quot;p3&quot;&gt;\\nWelcome to BE. &lt;img src=&quot;http://britishexpats.com/forum/images/smilies/smile.gif&quot;/&gt;\\n\\nYou seem to be getting the hang of things forum wise. If you have any site related problems please give me a shout.\\n&lt;/post&gt;\\n&lt;/doc&gt;\\n'"
      ]
     },
     "execution_count": 13,
     "metadata": {},
     "output_type": "execute_result"
    }
   ],
   "source": [
    "xml_escape(data)"
   ]
  },
  {
   "cell_type": "code",
   "execution_count": 14,
   "metadata": {
    "collapsed": true
   },
   "outputs": [],
   "source": [
    "with open('ENG_DF_001503_20160415_G00A0AA3J_escape.xml', 'w') as myfile:\n",
    "    myfile.write(xml_escape(data))"
   ]
  },
  {
   "cell_type": "code",
   "execution_count": 34,
   "metadata": {
    "collapsed": true
   },
   "outputs": [],
   "source": [
    "path = '/Users/liangjianzhong/Desktop/internship/EDL-2018/code/source_documents/eng/df'"
   ]
  },
  {
   "cell_type": "code",
   "execution_count": 35,
   "metadata": {},
   "outputs": [],
   "source": [
    "reader = XMLCorpusReader(path, '.*\\.xml')"
   ]
  },
  {
   "cell_type": "code",
   "execution_count": 37,
   "metadata": {},
   "outputs": [
    {
     "ename": "AttributeError",
     "evalue": "'XMLCorpusReader' object has no attribute 'offsets'",
     "output_type": "error",
     "traceback": [
      "\u001b[0;31m---------------------------------------------------------------------------\u001b[0m",
      "\u001b[0;31mAttributeError\u001b[0m                            Traceback (most recent call last)",
      "\u001b[0;32m<ipython-input-37-39a56d6bbb65>\u001b[0m in \u001b[0;36m<module>\u001b[0;34m()\u001b[0m\n\u001b[0;32m----> 1\u001b[0;31m \u001b[0mreader\u001b[0m\u001b[0;34m.\u001b[0m\u001b[0moffsets\u001b[0m\u001b[0;34m(\u001b[0m\u001b[0;34m'ENG_DF_000259_20130830_G00A0F9BC.xml'\u001b[0m\u001b[0;34m)\u001b[0m\u001b[0;34m\u001b[0m\u001b[0m\n\u001b[0m",
      "\u001b[0;31mAttributeError\u001b[0m: 'XMLCorpusReader' object has no attribute 'offsets'"
     ]
    }
   ],
   "source": [
    "reader.offsets('ENG_DF_000259_20130830_G00A0F9BC.xml')"
   ]
  },
  {
   "cell_type": "code",
   "execution_count": null,
   "metadata": {
    "collapsed": true
   },
   "outputs": [],
   "source": []
  }
 ],
 "metadata": {
  "kernelspec": {
   "display_name": "Python 3",
   "language": "python",
   "name": "python3"
  },
  "language_info": {
   "codemirror_mode": {
    "name": "ipython",
    "version": 3
   },
   "file_extension": ".py",
   "mimetype": "text/x-python",
   "name": "python",
   "nbconvert_exporter": "python",
   "pygments_lexer": "ipython3",
   "version": "3.6.3"
  }
 },
 "nbformat": 4,
 "nbformat_minor": 2
}
