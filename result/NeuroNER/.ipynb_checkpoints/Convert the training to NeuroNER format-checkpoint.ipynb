{
 "cells": [
  {
   "cell_type": "code",
   "execution_count": 3,
   "metadata": {},
   "outputs": [],
   "source": [
    "import os\n",
    "import json\n",
    "import matplotlib\n",
    "import matplotlib.pyplot as plt\n",
    "import pickle\n",
    "import pandas as pd\n",
    "import random"
   ]
  },
  {
   "cell_type": "markdown",
   "metadata": {},
   "source": [
    "## Convert the training to NeuroNER format"
   ]
  },
  {
   "cell_type": "code",
   "execution_count": 40,
   "metadata": {},
   "outputs": [],
   "source": [
    "def space2tab (data_path, tab_path,entity_name):\n",
    "    files = os.listdir(data_path)\n",
    "    new_tab_path = tab_path + entity_name + '/'\n",
    "    if not os.path.exists(new_tab_path):\n",
    "        os.makedirs(new_tab_path)    \n",
    "    if len(files) == 5:\n",
    "        for file in files:\n",
    "            r_file_path = data_path + '/' + file\n",
    "            w_file_path = new_tab_path + file[-11:]\n",
    "            with open(r_file_path, 'r') as r_file, open(w_file_path, 'w+') as w_file:\n",
    "                lines = r_file.readlines()\n",
    "                for line in lines:\n",
    "                    if line in ['\\n', '\\r\\n']:\n",
    "                        w_file.write('\\n')\n",
    "                    else:\n",
    "                        token,_,_,_, label = line.split(' ')\n",
    "                        new_line = token + ' ' + label\n",
    "                        w_file.write(new_line)\n",
    "    return new_tab_path\n",
    "\n",
    "def convert2NeuroNER_format(src_path, dst_path, entity_name):\n",
    "    train_conll = ['fold0.conll','fold1.conll','fold4.conll','fold3.conll']\n",
    "    valid_conll = 'fold2.conll'\n",
    "    new_NeuroNER_path = dst_path + entity_name + '/'\n",
    "    if not os.path.exists(new_NeuroNER_path):\n",
    "        os.makedirs(new_NeuroNER_path)\n",
    "    train_file = new_NeuroNER_path + 'train.txt'\n",
    "    valid_file = new_NeuroNER_path + 'valid.txt'\n",
    "    with open (train_file, 'w+') as w_file:\n",
    "        for file in train_conll:\n",
    "            r_file_path = src_path + '/' + file\n",
    "            with open(r_file_path, 'r') as r_file:\n",
    "                w_file.write(\"-DOCSTART- -X- -X- O\\n\\n\")\n",
    "                w_file.write(r_file.read())\n",
    "    r_file_path = src_path + '/' + valid_conll\n",
    "    with open (valid_file, 'w+') as w_file, open(r_file_path, 'r') as r_file:\n",
    "        w_file.write(\"-DOCSTART- -X- -X- O\\n\\n\")\n",
    "        w_file.write(r_file.read())\n",
    "\n",
    "\n"
   ]
  },
  {
   "cell_type": "code",
   "execution_count": 41,
   "metadata": {
    "scrolled": true
   },
   "outputs": [],
   "source": [
    "data_path = 'data/'\n",
    "result_path_NeuroNER = 'result/fold2/'\n",
    "result_path_tab = 'tab/'\n",
    "i =0\n",
    "for (dirpath, dirnames, filenames) in os.walk(result_path_tab):\n",
    "    if len(filenames) == 5:\n",
    "        entity_name = dirpath.split('/')[1]\n",
    "        convert2NeuroNER_format(dirpath, result_path_NeuroNER, entity_name)\n",
    "\n",
    "        "
   ]
  }
 ],
 "metadata": {
  "kernelspec": {
   "display_name": "Python 3",
   "language": "python",
   "name": "python3"
  },
  "language_info": {
   "codemirror_mode": {
    "name": "ipython",
    "version": 3
   },
   "file_extension": ".py",
   "mimetype": "text/x-python",
   "name": "python",
   "nbconvert_exporter": "python",
   "pygments_lexer": "ipython3",
   "version": "3.5.2"
  }
 },
 "nbformat": 4,
 "nbformat_minor": 2
}
