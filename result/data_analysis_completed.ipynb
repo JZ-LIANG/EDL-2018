{
 "cells": [
  {
   "cell_type": "code",
   "execution_count": 5,
   "metadata": {},
   "outputs": [],
   "source": [
    "import math\n",
    "import pickle\n",
    "import numpy as np\n",
    "import pandas as pd\n",
    "# import matplotlib.pyplot as plt"
   ]
  },
  {
   "cell_type": "markdown",
   "metadata": {},
   "source": [
    "# file statistic"
   ]
  },
  {
   "cell_type": "code",
   "execution_count": 3,
   "metadata": {},
   "outputs": [
    {
     "data": {
      "text/html": [
       "<div>\n",
       "<style>\n",
       "    .dataframe thead tr:only-child th {\n",
       "        text-align: right;\n",
       "    }\n",
       "\n",
       "    .dataframe thead th {\n",
       "        text-align: left;\n",
       "    }\n",
       "\n",
       "    .dataframe tbody tr th {\n",
       "        vertical-align: top;\n",
       "    }\n",
       "</style>\n",
       "<table border=\"1\" class=\"dataframe\">\n",
       "  <thead>\n",
       "    <tr style=\"text-align: right;\">\n",
       "      <th></th>\n",
       "      <th>en_conll_file_number</th>\n",
       "      <th>en_conll_file_size</th>\n",
       "      <th>zh_conll_file_number</th>\n",
       "      <th>zh_conll_file_size</th>\n",
       "    </tr>\n",
       "  </thead>\n",
       "  <tbody>\n",
       "    <tr>\n",
       "      <th>0</th>\n",
       "      <td>1235</td>\n",
       "      <td>546 MB</td>\n",
       "      <td>4168</td>\n",
       "      <td>87 MB</td>\n",
       "    </tr>\n",
       "  </tbody>\n",
       "</table>\n",
       "</div>"
      ],
      "text/plain": [
       "   en_conll_file_number en_conll_file_size  zh_conll_file_number  \\\n",
       "0                  1235             546 MB                  4168   \n",
       "\n",
       "  zh_conll_file_size  \n",
       "0              87 MB  "
      ]
     },
     "execution_count": 3,
     "metadata": {},
     "output_type": "execute_result"
    }
   ],
   "source": [
    "df_file = pd.DataFrame({'en_conll_file_size':['546 MB'],'en_conll_file_number':[1235],\n",
    "                    'zh_conll_file_size':['87 MB'],'zh_conll_file_number':[4168]})\n",
    "df_file"
   ]
  },
  {
   "cell_type": "markdown",
   "metadata": {},
   "source": [
    "## ZH statistic"
   ]
  },
  {
   "cell_type": "code",
<<<<<<< HEAD
   "execution_count": 6,
=======
   "execution_count": 3,
>>>>>>> 40890e5b6661c7d6d6fb1bfe18a3033fc110d5fe
   "metadata": {},
   "outputs": [
    {
     "data": {
      "text/html": [
       "<div>\n",
       "<style scoped>\n",
       "    .dataframe tbody tr th:only-of-type {\n",
       "        vertical-align: middle;\n",
       "    }\n",
       "\n",
       "    .dataframe tbody tr th {\n",
       "        vertical-align: top;\n",
       "    }\n",
       "\n",
       "    .dataframe thead th {\n",
       "        text-align: right;\n",
       "    }\n",
       "</style>\n",
       "<table border=\"1\" class=\"dataframe\">\n",
       "  <thead>\n",
       "    <tr style=\"text-align: right;\">\n",
       "      <th></th>\n",
       "      <th>entity_type</th>\n",
       "      <th>n_document</th>\n",
       "      <th>n_sentence</th>\n",
       "      <th>n_token</th>\n",
       "      <th>n_MISC</th>\n",
       "      <th>n_ALL</th>\n",
       "    </tr>\n",
       "  </thead>\n",
       "  <tbody>\n",
       "    <tr>\n",
       "      <th>0</th>\n",
       "      <td>Organizer110383505</td>\n",
       "      <td>1</td>\n",
       "      <td>10</td>\n",
       "      <td>293</td>\n",
       "      <td>10</td>\n",
       "      <td>10</td>\n",
       "    </tr>\n",
       "    <tr>\n",
       "      <th>1</th>\n",
       "      <td>Passerine101524359</td>\n",
       "      <td>1</td>\n",
       "      <td>8</td>\n",
       "      <td>195</td>\n",
       "      <td>10</td>\n",
       "      <td>10</td>\n",
       "    </tr>\n",
       "    <tr>\n",
       "      <th>2</th>\n",
       "      <td>WrittenAgreement106771653</td>\n",
       "      <td>0</td>\n",
       "      <td>0</td>\n",
       "      <td>0</td>\n",
       "      <td>0</td>\n",
       "      <td>0</td>\n",
       "    </tr>\n",
       "    <tr>\n",
       "      <th>3</th>\n",
       "      <td>Antibiotic102716866</td>\n",
       "      <td>1</td>\n",
       "      <td>22</td>\n",
       "      <td>635</td>\n",
       "      <td>28</td>\n",
       "      <td>28</td>\n",
       "    </tr>\n",
       "    <tr>\n",
       "      <th>4</th>\n",
       "      <td>Hurling100470830</td>\n",
       "      <td>0</td>\n",
       "      <td>0</td>\n",
       "      <td>0</td>\n",
       "      <td>0</td>\n",
       "      <td>0</td>\n",
       "    </tr>\n",
       "  </tbody>\n",
       "</table>\n",
       "</div>"
      ],
      "text/plain": [
       "                 entity_type  n_document  n_sentence  n_token  n_MISC  n_ALL\n",
       "0         Organizer110383505           1          10      293      10     10\n",
       "1         Passerine101524359           1           8      195      10     10\n",
       "2  WrittenAgreement106771653           0           0        0       0      0\n",
       "3        Antibiotic102716866           1          22      635      28     28\n",
       "4           Hurling100470830           0           0        0       0      0"
      ]
     },
<<<<<<< HEAD
     "execution_count": 6,
=======
     "execution_count": 3,
>>>>>>> 40890e5b6661c7d6d6fb1bfe18a3033fc110d5fe
     "metadata": {},
     "output_type": "execute_result"
    }
   ],
   "source": [
    "# read ZH data statistic\n",
<<<<<<< HEAD
    "file_path = 'statistic/zh_result.txt'\n",
=======
    "file_path = '/Users/liangjianzhong/Desktop/internship/EDL-2018/result/statistic/zh_result.txt'\n",
>>>>>>> 40890e5b6661c7d6d6fb1bfe18a3033fc110d5fe
    "with open(file_path, \"rb\") as f:\n",
    "    ls_entity_type2,ls_n_document2,ls_n_sentence2,ls_n_token2,ls_n_MISC2,ls_n_ALL2 = pickle.load(f) \n",
    "    \n",
    "    \n",
    "df_zh = pd.DataFrame({'entity_type':ls_entity_type2,'n_document':ls_n_document2,\n",
    "                    'n_sentence':ls_n_sentence2,'n_token':ls_n_token2,'n_MISC':ls_n_MISC2,'n_ALL':ls_n_ALL2})\n",
    "df_zh = df_zh[['entity_type','n_document','n_sentence','n_token','n_MISC','n_ALL']]\n",
    "\n",
    "df_zh.head(5)"
   ]
  },
  {
   "cell_type": "code",
   "execution_count": 7,
   "metadata": {
    "scrolled": true
   },
   "outputs": [
    {
     "data": {
      "text/html": [
       "<div>\n",
       "<style>\n",
       "    .dataframe thead tr:only-child th {\n",
       "        text-align: right;\n",
       "    }\n",
       "\n",
       "    .dataframe thead th {\n",
       "        text-align: left;\n",
       "    }\n",
       "\n",
       "    .dataframe tbody tr th {\n",
       "        vertical-align: top;\n",
       "    }\n",
       "</style>\n",
       "<table border=\"1\" class=\"dataframe\">\n",
       "  <thead>\n",
       "    <tr style=\"text-align: right;\">\n",
       "      <th></th>\n",
       "      <th>n_document</th>\n",
       "      <th>n_sentence</th>\n",
       "      <th>n_token</th>\n",
       "      <th>n_MISC</th>\n",
       "      <th>n_ALL</th>\n",
       "    </tr>\n",
       "  </thead>\n",
       "  <tbody>\n",
       "    <tr>\n",
       "      <th>count</th>\n",
       "      <td>4168.000000</td>\n",
       "      <td>4168.000000</td>\n",
       "      <td>4168.000000</td>\n",
       "      <td>4168.000000</td>\n",
       "      <td>4168.000000</td>\n",
       "    </tr>\n",
       "    <tr>\n",
       "      <th>mean</th>\n",
       "      <td>1.139875</td>\n",
       "      <td>57.705134</td>\n",
       "      <td>1588.566459</td>\n",
       "      <td>66.757917</td>\n",
       "      <td>66.757917</td>\n",
       "    </tr>\n",
       "    <tr>\n",
       "      <th>std</th>\n",
       "      <td>2.352511</td>\n",
       "      <td>233.221696</td>\n",
       "      <td>6770.487300</td>\n",
       "      <td>282.202418</td>\n",
       "      <td>282.202418</td>\n",
       "    </tr>\n",
       "    <tr>\n",
       "      <th>min</th>\n",
       "      <td>0.000000</td>\n",
       "      <td>0.000000</td>\n",
       "      <td>0.000000</td>\n",
       "      <td>0.000000</td>\n",
       "      <td>0.000000</td>\n",
       "    </tr>\n",
       "    <tr>\n",
       "      <th>25%</th>\n",
       "      <td>1.000000</td>\n",
       "      <td>1.000000</td>\n",
       "      <td>15.000000</td>\n",
       "      <td>1.000000</td>\n",
       "      <td>1.000000</td>\n",
       "    </tr>\n",
       "    <tr>\n",
       "      <th>50%</th>\n",
       "      <td>1.000000</td>\n",
       "      <td>11.000000</td>\n",
       "      <td>278.500000</td>\n",
       "      <td>13.000000</td>\n",
       "      <td>13.000000</td>\n",
       "    </tr>\n",
       "    <tr>\n",
       "      <th>75%</th>\n",
       "      <td>1.000000</td>\n",
       "      <td>46.000000</td>\n",
       "      <td>1224.250000</td>\n",
       "      <td>50.250000</td>\n",
       "      <td>50.250000</td>\n",
       "    </tr>\n",
       "    <tr>\n",
       "      <th>max</th>\n",
       "      <td>69.000000</td>\n",
       "      <td>6807.000000</td>\n",
       "      <td>193808.000000</td>\n",
       "      <td>7840.000000</td>\n",
       "      <td>7840.000000</td>\n",
       "    </tr>\n",
       "  </tbody>\n",
       "</table>\n",
       "</div>"
      ],
      "text/plain": [
       "        n_document   n_sentence        n_token       n_MISC        n_ALL\n",
       "count  4168.000000  4168.000000    4168.000000  4168.000000  4168.000000\n",
       "mean      1.139875    57.705134    1588.566459    66.757917    66.757917\n",
       "std       2.352511   233.221696    6770.487300   282.202418   282.202418\n",
       "min       0.000000     0.000000       0.000000     0.000000     0.000000\n",
       "25%       1.000000     1.000000      15.000000     1.000000     1.000000\n",
       "50%       1.000000    11.000000     278.500000    13.000000    13.000000\n",
       "75%       1.000000    46.000000    1224.250000    50.250000    50.250000\n",
       "max      69.000000  6807.000000  193808.000000  7840.000000  7840.000000"
      ]
     },
     "execution_count": 7,
     "metadata": {},
     "output_type": "execute_result"
    }
   ],
   "source": [
    "# statistic of ZH\n",
    "df_zh.describe()"
   ]
  },
  {
   "cell_type": "markdown",
   "metadata": {},
   "source": [
    "## EN statistic"
   ]
  },
  {
   "cell_type": "code",
<<<<<<< HEAD
   "execution_count": 8,
   "metadata": {},
   "outputs": [],
   "source": [
    "# read EN data statistic\n",
    "file_path = 'statistic/en_result.txt'\n",
=======
   "execution_count": 4,
   "metadata": {
    "collapsed": true
   },
   "outputs": [],
   "source": [
    "# read EN data statistic\n",
    "file_path = '/Users/liangjianzhong/Desktop/internship/EDL-2018/result/statistic/en_result.txt'\n",
>>>>>>> 40890e5b6661c7d6d6fb1bfe18a3033fc110d5fe
    "with open(file_path, \"rb\") as f:\n",
    "    ls_entity_type2,ls_n_document2,ls_n_sentence2,ls_n_token2,ls_n_MISC2,ls_n_ALL2 = pickle.load(f) \n",
    "    \n",
    "    \n",
    "df_en = pd.DataFrame({'entity_type':ls_entity_type2,'n_document':ls_n_document2,\n",
    "                    'n_sentence':ls_n_sentence2,'n_token':ls_n_token2,'n_MISC':ls_n_MISC2,'n_ALL':ls_n_ALL2})\n",
    "df_en = df_en[['entity_type','n_document','n_sentence','n_token','n_MISC','n_ALL']]"
   ]
  },
  {
   "cell_type": "code",
   "execution_count": 5,
   "metadata": {},
   "outputs": [
    {
     "data": {
      "text/html": [
       "<div>\n",
       "<style scoped>\n",
       "    .dataframe tbody tr th:only-of-type {\n",
       "        vertical-align: middle;\n",
       "    }\n",
       "\n",
       "    .dataframe tbody tr th {\n",
       "        vertical-align: top;\n",
       "    }\n",
       "\n",
       "    .dataframe thead th {\n",
       "        text-align: right;\n",
       "    }\n",
       "</style>\n",
       "<table border=\"1\" class=\"dataframe\">\n",
       "  <thead>\n",
       "    <tr style=\"text-align: right;\">\n",
       "      <th></th>\n",
       "      <th>entity_type</th>\n",
       "      <th>n_document</th>\n",
       "      <th>n_sentence</th>\n",
       "      <th>n_token</th>\n",
       "      <th>n_MISC</th>\n",
       "      <th>n_ALL</th>\n",
       "    </tr>\n",
       "  </thead>\n",
       "  <tbody>\n",
       "    <tr>\n",
       "      <th>0</th>\n",
       "      <td>StockTrader110657835</td>\n",
       "      <td>18</td>\n",
       "      <td>1753</td>\n",
       "      <td>52868</td>\n",
       "      <td>1907</td>\n",
       "      <td>1907</td>\n",
       "    </tr>\n",
       "    <tr>\n",
       "      <th>1</th>\n",
       "      <td>Ma110278128</td>\n",
       "      <td>13</td>\n",
       "      <td>1239</td>\n",
       "      <td>37578</td>\n",
       "      <td>1514</td>\n",
       "      <td>1514</td>\n",
       "    </tr>\n",
       "    <tr>\n",
       "      <th>2</th>\n",
       "      <td>HighPriest110175248</td>\n",
       "      <td>7</td>\n",
       "      <td>636</td>\n",
       "      <td>19265</td>\n",
       "      <td>836</td>\n",
       "      <td>836</td>\n",
       "    </tr>\n",
       "    <tr>\n",
       "      <th>3</th>\n",
       "      <td>Meteorite109352849</td>\n",
       "      <td>4</td>\n",
       "      <td>315</td>\n",
       "      <td>6289</td>\n",
       "      <td>340</td>\n",
       "      <td>340</td>\n",
       "    </tr>\n",
       "    <tr>\n",
       "      <th>4</th>\n",
       "      <td>Pipe103944672</td>\n",
       "      <td>11</td>\n",
       "      <td>1079</td>\n",
       "      <td>28401</td>\n",
       "      <td>1366</td>\n",
       "      <td>1366</td>\n",
       "    </tr>\n",
       "  </tbody>\n",
       "</table>\n",
       "</div>"
      ],
      "text/plain": [
       "            entity_type  n_document  n_sentence  n_token  n_MISC  n_ALL\n",
       "0  StockTrader110657835          18        1753    52868    1907   1907\n",
       "1           Ma110278128          13        1239    37578    1514   1514\n",
       "2   HighPriest110175248           7         636    19265     836    836\n",
       "3    Meteorite109352849           4         315     6289     340    340\n",
       "4         Pipe103944672          11        1079    28401    1366   1366"
      ]
     },
     "execution_count": 5,
     "metadata": {},
     "output_type": "execute_result"
    }
   ],
   "source": [
    "df_en.head(5)"
   ]
  },
  {
   "cell_type": "code",
   "execution_count": 6,
   "metadata": {},
   "outputs": [
    {
     "data": {
      "text/html": [
       "<div>\n",
       "<style scoped>\n",
       "    .dataframe tbody tr th:only-of-type {\n",
       "        vertical-align: middle;\n",
       "    }\n",
       "\n",
       "    .dataframe tbody tr th {\n",
       "        vertical-align: top;\n",
       "    }\n",
       "\n",
       "    .dataframe thead th {\n",
       "        text-align: right;\n",
       "    }\n",
       "</style>\n",
       "<table border=\"1\" class=\"dataframe\">\n",
       "  <thead>\n",
       "    <tr style=\"text-align: right;\">\n",
       "      <th></th>\n",
       "      <th>n_document</th>\n",
       "      <th>n_sentence</th>\n",
       "      <th>n_token</th>\n",
       "      <th>n_MISC</th>\n",
       "      <th>n_ALL</th>\n",
       "    </tr>\n",
       "  </thead>\n",
       "  <tbody>\n",
       "    <tr>\n",
       "      <th>count</th>\n",
       "      <td>1235.000000</td>\n",
       "      <td>1235.000000</td>\n",
       "      <td>1.235000e+03</td>\n",
       "      <td>1235.000000</td>\n",
       "      <td>1235.000000</td>\n",
       "    </tr>\n",
       "    <tr>\n",
       "      <th>mean</th>\n",
       "      <td>14.284211</td>\n",
       "      <td>1378.661538</td>\n",
       "      <td>3.822384e+04</td>\n",
       "      <td>1643.449393</td>\n",
       "      <td>1643.449393</td>\n",
       "    </tr>\n",
       "    <tr>\n",
       "      <th>std</th>\n",
       "      <td>23.154356</td>\n",
       "      <td>2316.398490</td>\n",
       "      <td>6.437524e+04</td>\n",
       "      <td>2836.905542</td>\n",
       "      <td>2836.905542</td>\n",
       "    </tr>\n",
       "    <tr>\n",
       "      <th>min</th>\n",
       "      <td>1.000000</td>\n",
       "      <td>84.000000</td>\n",
       "      <td>1.133000e+03</td>\n",
       "      <td>101.000000</td>\n",
       "      <td>101.000000</td>\n",
       "    </tr>\n",
       "    <tr>\n",
       "      <th>25%</th>\n",
       "      <td>5.000000</td>\n",
       "      <td>425.500000</td>\n",
       "      <td>1.064900e+04</td>\n",
       "      <td>482.000000</td>\n",
       "      <td>482.000000</td>\n",
       "    </tr>\n",
       "    <tr>\n",
       "      <th>50%</th>\n",
       "      <td>8.000000</td>\n",
       "      <td>744.000000</td>\n",
       "      <td>1.945200e+04</td>\n",
       "      <td>867.000000</td>\n",
       "      <td>867.000000</td>\n",
       "    </tr>\n",
       "    <tr>\n",
       "      <th>75%</th>\n",
       "      <td>15.000000</td>\n",
       "      <td>1449.000000</td>\n",
       "      <td>4.043500e+04</td>\n",
       "      <td>1694.000000</td>\n",
       "      <td>1694.000000</td>\n",
       "    </tr>\n",
       "    <tr>\n",
       "      <th>max</th>\n",
       "      <td>374.000000</td>\n",
       "      <td>37373.000000</td>\n",
       "      <td>1.029345e+06</td>\n",
       "      <td>41527.000000</td>\n",
       "      <td>41527.000000</td>\n",
       "    </tr>\n",
       "  </tbody>\n",
       "</table>\n",
       "</div>"
      ],
      "text/plain": [
       "        n_document    n_sentence       n_token        n_MISC         n_ALL\n",
       "count  1235.000000   1235.000000  1.235000e+03   1235.000000   1235.000000\n",
       "mean     14.284211   1378.661538  3.822384e+04   1643.449393   1643.449393\n",
       "std      23.154356   2316.398490  6.437524e+04   2836.905542   2836.905542\n",
       "min       1.000000     84.000000  1.133000e+03    101.000000    101.000000\n",
       "25%       5.000000    425.500000  1.064900e+04    482.000000    482.000000\n",
       "50%       8.000000    744.000000  1.945200e+04    867.000000    867.000000\n",
       "75%      15.000000   1449.000000  4.043500e+04   1694.000000   1694.000000\n",
       "max     374.000000  37373.000000  1.029345e+06  41527.000000  41527.000000"
      ]
     },
     "execution_count": 6,
     "metadata": {},
     "output_type": "execute_result"
    }
   ],
   "source": [
    "df_en.describe()"
   ]
  },
  {
   "cell_type": "markdown",
   "metadata": {},
   "source": [
    "## ZERO document entity"
   ]
  },
  {
   "cell_type": "code",
   "execution_count": 30,
   "metadata": {
    "scrolled": true
   },
   "outputs": [
    {
     "data": {
      "text/html": [
       "<div>\n",
       "<style>\n",
       "    .dataframe thead tr:only-child th {\n",
       "        text-align: right;\n",
       "    }\n",
       "\n",
       "    .dataframe thead th {\n",
       "        text-align: left;\n",
       "    }\n",
       "\n",
       "    .dataframe tbody tr th {\n",
       "        vertical-align: top;\n",
       "    }\n",
       "</style>\n",
       "<table border=\"1\" class=\"dataframe\">\n",
       "  <thead>\n",
       "    <tr style=\"text-align: right;\">\n",
       "      <th></th>\n",
       "      <th>zero_en_doc</th>\n",
       "      <th>zero_zh_doc</th>\n",
       "    </tr>\n",
       "  </thead>\n",
       "  <tbody>\n",
       "    <tr>\n",
       "      <th>0</th>\n",
       "      <td>0</td>\n",
       "      <td>924</td>\n",
       "    </tr>\n",
       "  </tbody>\n",
       "</table>\n",
       "</div>"
      ],
      "text/plain": [
       "   zero_en_doc  zero_zh_doc\n",
       "0            0          924"
      ]
     },
     "execution_count": 30,
     "metadata": {},
     "output_type": "execute_result"
    }
   ],
   "source": [
    "zero_zh = [df_zh[df_zh['n_document'] ==0].count()[0]]\n",
    "zero_en = [df_en[df_en['n_document'] ==0].count()[0]]\n",
    "df1 = pd.DataFrame({'zero_zh_doc':zero_zh, 'zero_en_doc':zero_en})\n",
    "df1"
   ]
  },
  {
   "cell_type": "markdown",
   "metadata": {},
   "source": [
    "## Entity type that less than 15 sentences."
   ]
  },
  {
   "cell_type": "markdown",
   "metadata": {},
   "source": [
    "## DATA distribution"
   ]
  },
  {
   "cell_type": "markdown",
   "metadata": {},
   "source": [
    "### ZH data"
   ]
  },
  {
   "cell_type": "code",
   "execution_count": 12,
   "metadata": {},
   "outputs": [
    {
     "data": {
      "image/png": "iVBORw0KGgoAAAANSUhEUgAAA7wAAAJcCAYAAADacKgBAAAABHNCSVQICAgIfAhkiAAAAAlwSFlz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\nRK5CYII=\n",
      "text/plain": [
       "<matplotlib.figure.Figure at 0x1100c2710>"
      ]
     },
     "metadata": {},
     "output_type": "display_data"
    }
   ],
   "source": [
    "# the distribution of label in MNIST# the dis \n",
    "plt.figure(figsize=(16,10))\n",
    "\n",
    "plt.subplot(2,1,1)\n",
    "data = df_zh['n_document'].tolist()\n",
    "bins1 = [0,1,2,3,4,5,6,7,8,9, 10, 20, 30, 40, 50]\n",
    "plt.hist(data,align ='mid', bins = 35)\n",
    "plt.title(\"the distribution of document For ZH_data\")\n",
    "plt.xlabel(\"number of document\")\n",
    "plt.ylabel(\"number of entity type\")\n",
    "\n",
    "plt.subplot(2,1,2)\n",
    "data = df_zh['n_sentence'].tolist()\n",
    "bins1 = [0,30,60,90, 1000, 2000, 3000, 4000, 5000,6000]\n",
    "plt.hist(data,align ='mid', bins = 60)\n",
    "plt.title(\"the distribution of sentence For ZH_data\")\n",
    "plt.xlabel(\"number of sentence\")\n",
    "plt.ylabel(\"number of entity type\")\n",
    "\n",
    "plt.show()"
   ]
  },
  {
   "cell_type": "markdown",
   "metadata": {},
   "source": [
    "### ZH zoom into small region"
   ]
  },
  {
   "cell_type": "code",
   "execution_count": 13,
   "metadata": {
    "scrolled": false
   },
   "outputs": [
    {
     "data": {
      "image/png": "iVBORw0KGgoAAAANSUhEUgAAA70AAAJcCAYAAAA1ssM/AAAABHNCSVQICAgIfAhkiAAAAAlwSFlz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\nMrsCAAAAAElFTkSuQmCC\n",
      "text/plain": [
       "<matplotlib.figure.Figure at 0x1100c2ba8>"
      ]
     },
     "metadata": {},
     "output_type": "display_data"
    }
   ],
   "source": [
    "# the distribution of label in MNIST# the dis \n",
    "plt.figure(figsize=(16,10))\n",
    "\n",
    "plt.subplot(2,1,1)\n",
    "data = df_zh['n_document'].tolist()\n",
    "zoon_data = [i for i in data if i < 11]\n",
    "# bins1 = [0,1,2,3,4,5,6,7,8,9, 10, 20, 30, 40, 50]\n",
    "plt.hist(zoon_data,align ='mid')\n",
    "plt.title(\"the distribution of document For ZH_data\")\n",
    "plt.xlabel(\"number of document\")\n",
    "plt.ylabel(\"number of entity type\")\n",
    "\n",
    "plt.subplot(2,1,2)\n",
    "data = df_zh['n_sentence'].tolist()\n",
    "zoon_data = [i for i in data if i < 100]\n",
    "# bins1 = [0,30,60,90, 1000, 2000, 3000, 4000, 5000,6000]\n",
    "plt.hist(zoon_data,align ='mid')\n",
    "plt.title(\"the distribution of sentence For ZH_data\")\n",
    "plt.xlabel(\"number of sentence\")\n",
    "plt.ylabel(\"number of entity type\")\n",
    "\n",
    "plt.show()"
   ]
  },
  {
   "cell_type": "markdown",
   "metadata": {},
   "source": [
    "## EN data"
   ]
  },
  {
   "cell_type": "code",
   "execution_count": 16,
   "metadata": {},
   "outputs": [
    {
     "data": {
      "image/png": "iVBORw0KGgoAAAANSUhEUgAAA7YAAAJcCAYAAADNUjjIAAAABHNCSVQICAgIfAhkiAAAAAlwSFlz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\n",
      "text/plain": [
       "<matplotlib.figure.Figure at 0x10f1b0128>"
      ]
     },
     "metadata": {},
     "output_type": "display_data"
    }
   ],
   "source": [
    "# the distribution of label in MNIST# the dis \n",
    "plt.figure(figsize=(16,10))\n",
    "\n",
    "plt.subplot(2,1,1)\n",
    "data = df_en['n_document'].tolist()\n",
    "bins1 = [0,1,2,3,4,5,6,7,8,9, 10, 20, 30, 40, 50]\n",
    "plt.hist(data,align ='mid', bins = 36)\n",
    "plt.title(\"the distribution of n_document For EN_data\")\n",
    "plt.xlabel(\"number of document\")\n",
    "plt.ylabel(\"number of entity\")\n",
    "\n",
    "plt.subplot(2,1,2)\n",
    "data = df_en['n_sentence'].tolist()\n",
    "bins1 = [0,30,60,90, 1000, 2000, 3000, 4000, 5000,6000]\n",
    "plt.hist(data,align ='mid', bins = 35)\n",
    "plt.title(\"the distribution of n_sentence For EN_data\")\n",
    "plt.xlabel(\"number of sentence\")\n",
    "plt.ylabel(\"number of entity\")\n",
    "\n",
    "plt.show()"
   ]
  },
  {
   "cell_type": "markdown",
   "metadata": {},
   "source": [
    "### EN zoom into small region"
   ]
  },
  {
   "cell_type": "code",
   "execution_count": 17,
   "metadata": {},
   "outputs": [
    {
     "data": {
      "image/png": "iVBORw0KGgoAAAANSUhEUgAAA7YAAAJcCAYAAADNUjjIAAAABHNCSVQICAgIfAhkiAAAAAlwSFlz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\n4JOYYT/LBeEAAAAASUVORK5CYII=\n",
      "text/plain": [
       "<matplotlib.figure.Figure at 0x1101049b0>"
      ]
     },
     "metadata": {},
     "output_type": "display_data"
    }
   ],
   "source": [
    "# the distribution of label in MNIST# the dis \n",
    "plt.figure(figsize=(16,10))\n",
    "\n",
    "plt.subplot(2,1,1)\n",
    "data = df_en['n_document'].tolist()\n",
    "zoon_data = [i for i in data if i < 100]\n",
    "plt.hist(zoon_data,align ='mid')\n",
    "plt.title(\"the distribution of n_sentence For ZH_data\")\n",
    "plt.xlabel(\"number of document\")\n",
    "plt.ylabel(\"number of entity\")\n",
    "\n",
    "plt.subplot(2,1,2)\n",
    "data = df_en['n_sentence'].tolist()\n",
    "zoon_data = [i for i in data if i < 5000]\n",
    "plt.hist(zoon_data,align ='mid')\n",
    "plt.title(\"the distribution of n_sentence For ZH_data\")\n",
    "plt.xlabel(\"number of sentence\")\n",
    "plt.ylabel(\"number of entity\")\n",
    "\n",
    "plt.show()"
   ]
  },
  {
   "cell_type": "markdown",
   "metadata": {},
   "source": [
    "### zoom summary\n",
    " * en zoom into number of document region [0~2000]\n",
    " * zh zoom into number of document region [0~100]   "
   ]
  },
  {
   "cell_type": "code",
   "execution_count": 14,
   "metadata": {},
   "outputs": [
    {
     "data": {
      "image/png": "iVBORw0KGgoAAAANSUhEUgAAA7YAAAJcCAYAAADNUjjIAAAABHNCSVQICAgIfAhkiAAAAAlwSFlz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\nJEmSJKnXDLaSJEmSpF77F2+2p+vZGy1uAAAAAElFTkSuQmCC\n",
      "text/plain": [
       "<matplotlib.figure.Figure at 0x10fddcf60>"
      ]
     },
     "metadata": {},
     "output_type": "display_data"
    }
   ],
   "source": [
    "data_en_zoom = df_en[df_en['n_sentence']<2000]['n_sentence'].tolist()\n",
    "data_zh_zoom = df_zh[df_zh['n_sentence']<100]['n_sentence'].tolist()\n",
    "\n",
    "plt.figure(figsize=(16,10))\n",
    "plt.subplot(2,1,1)\n",
    "# bins1 = [0,1,2,3,4,5,6,7,8,9, 10, 20, 30, 40, 50]\n",
    "plt.hist(data_en_zoom,align ='mid', bins = 100)\n",
    "plt.title(\"the distribution of n_sentence For EN_data\")\n",
    "plt.xlabel(\"number of document\")\n",
    "plt.ylabel(\"number of entity\")\n",
    "\n",
    "plt.subplot(2,1,2)\n",
    "# bins1 = [0,30,60,90, 1000, 2000, 3000, 4000, 5000,6000]\n",
    "plt.hist(data_zh_zoom,align ='mid', bins = 100)\n",
    "plt.title(\"the distribution of n_sentence For ZH_data\")\n",
    "plt.xlabel(\"number of sentence\")\n",
    "plt.ylabel(\"number of entity\")\n",
    "\n",
    "plt.show()"
   ]
  },
  {
   "cell_type": "code",
   "execution_count": 23,
   "metadata": {},
   "outputs": [
    {
     "data": {
      "text/plain": [
       "1086"
      ]
     },
     "execution_count": 23,
     "metadata": {},
     "output_type": "execute_result"
    }
   ],
   "source": [
    "data_en_zoom = df_en[df_en['n_sentence']<3000]['n_sentence'].tolist()\n",
    "data_zh_zoom = df_zh[df_zh['n_sentence']<500]['n_sentence'].tolist()\n",
    "\n",
    "plt.subplot(2,1,1)\n",
    "data = df_en['n_document'].tolist()\n",
    "bins1 = [0,1,2,3,4,5,6,7,8,9, 10, 20, 30, 40, 50]\n",
    "plt.hist(data,align ='mid', bins = 36)\n",
    "plt.title(\"the distribution of document For ZH_data\")\n",
    "plt.xlabel(\"number of document\")\n",
    "plt.ylabel(\"number of entity\")\n",
    "\n",
    "plt.subplot(2,1,2)\n",
    "data = df_en['n_sentence'].tolist()\n",
    "bins1 = [0,30,60,90, 1000, 2000, 3000, 4000, 5000,6000]\n",
    "plt.hist(data,align ='mid', bins = 35)\n",
    "plt.title(\"the distribution of sentence For ZH_data\")\n",
    "plt.xlabel(\"number of sentence\")\n",
    "plt.ylabel(\"number of entity\")\n",
    "\n",
    "plt.show()"
   ]
  },
  {
   "cell_type": "code",
   "execution_count": 52,
   "metadata": {},
   "outputs": [
    {
     "name": "stdout",
     "output_type": "stream",
     "text": [
      "document distribution:\n"
     ]
    },
    {
     "data": {
      "text/html": [
       "<div>\n",
       "<style>\n",
       "    .dataframe thead tr:only-child th {\n",
       "        text-align: right;\n",
       "    }\n",
       "\n",
       "    .dataframe thead th {\n",
       "        text-align: left;\n",
       "    }\n",
       "\n",
       "    .dataframe tbody tr th {\n",
       "        vertical-align: top;\n",
       "    }\n",
       "</style>\n",
       "<table border=\"1\" class=\"dataframe\">\n",
       "  <thead>\n",
       "    <tr style=\"text-align: right;\">\n",
       "      <th></th>\n",
       "      <th>EN_doc</th>\n",
       "      <th>ZH_doc</th>\n",
       "    </tr>\n",
       "  </thead>\n",
       "  <tbody>\n",
       "    <tr>\n",
       "      <th>[0, 20)</th>\n",
       "      <td>1018</td>\n",
       "      <td>4156</td>\n",
       "    </tr>\n",
       "    <tr>\n",
       "      <th>[20, 40)</th>\n",
       "      <td>144</td>\n",
       "      <td>9</td>\n",
       "    </tr>\n",
       "    <tr>\n",
       "      <th>[40, 60)</th>\n",
       "      <td>33</td>\n",
       "      <td>1</td>\n",
       "    </tr>\n",
       "    <tr>\n",
       "      <th>[60, 80)</th>\n",
       "      <td>16</td>\n",
       "      <td>2</td>\n",
       "    </tr>\n",
       "    <tr>\n",
       "      <th>[80, 100)</th>\n",
       "      <td>9</td>\n",
       "      <td>0</td>\n",
       "    </tr>\n",
       "    <tr>\n",
       "      <th>[100, 120)</th>\n",
       "      <td>7</td>\n",
       "      <td>0</td>\n",
       "    </tr>\n",
       "    <tr>\n",
       "      <th>[120, 140)</th>\n",
       "      <td>1</td>\n",
       "      <td>0</td>\n",
       "    </tr>\n",
       "    <tr>\n",
       "      <th>[140, 160)</th>\n",
       "      <td>2</td>\n",
       "      <td>0</td>\n",
       "    </tr>\n",
       "    <tr>\n",
       "      <th>[160, 180)</th>\n",
       "      <td>1</td>\n",
       "      <td>0</td>\n",
       "    </tr>\n",
       "    <tr>\n",
       "      <th>[180, 200)</th>\n",
       "      <td>0</td>\n",
       "      <td>0</td>\n",
       "    </tr>\n",
       "    <tr>\n",
       "      <th>[200, 220)</th>\n",
       "      <td>0</td>\n",
       "      <td>0</td>\n",
       "    </tr>\n",
       "    <tr>\n",
       "      <th>[220, 240)</th>\n",
       "      <td>1</td>\n",
       "      <td>0</td>\n",
       "    </tr>\n",
       "    <tr>\n",
       "      <th>[240, 260)</th>\n",
       "      <td>1</td>\n",
       "      <td>0</td>\n",
       "    </tr>\n",
       "    <tr>\n",
       "      <th>[260, 280)</th>\n",
       "      <td>0</td>\n",
       "      <td>0</td>\n",
       "    </tr>\n",
       "    <tr>\n",
       "      <th>[280, 300)</th>\n",
       "      <td>1</td>\n",
       "      <td>0</td>\n",
       "    </tr>\n",
       "    <tr>\n",
       "      <th>[300, 320)</th>\n",
       "      <td>0</td>\n",
       "      <td>0</td>\n",
       "    </tr>\n",
       "    <tr>\n",
       "      <th>[320, 340)</th>\n",
       "      <td>0</td>\n",
       "      <td>0</td>\n",
       "    </tr>\n",
       "    <tr>\n",
       "      <th>[340, 360)</th>\n",
       "      <td>0</td>\n",
       "      <td>0</td>\n",
       "    </tr>\n",
       "    <tr>\n",
       "      <th>[360, 380)</th>\n",
       "      <td>1</td>\n",
       "      <td>0</td>\n",
       "    </tr>\n",
       "  </tbody>\n",
       "</table>\n",
       "</div>"
      ],
      "text/plain": [
       "            EN_doc  ZH_doc\n",
       "[0, 20)       1018    4156\n",
       "[20, 40)       144       9\n",
       "[40, 60)        33       1\n",
       "[60, 80)        16       2\n",
       "[80, 100)        9       0\n",
       "[100, 120)       7       0\n",
       "[120, 140)       1       0\n",
       "[140, 160)       2       0\n",
       "[160, 180)       1       0\n",
       "[180, 200)       0       0\n",
       "[200, 220)       0       0\n",
       "[220, 240)       1       0\n",
       "[240, 260)       1       0\n",
       "[260, 280)       0       0\n",
       "[280, 300)       1       0\n",
       "[300, 320)       0       0\n",
       "[320, 340)       0       0\n",
       "[340, 360)       0       0\n",
       "[360, 380)       1       0"
      ]
     },
     "execution_count": 52,
     "metadata": {},
     "output_type": "execute_result"
    }
   ],
   "source": [
    "#ZH_document distribution\n",
    "step = 20\n",
    "bin_range = np.arange(0, 400, step)\n",
    "out1, bins1  = pd.cut(df_zh['n_document'].tolist(), bins=bin_range, include_lowest=True, right=False, retbins=True)\n",
    "out2, bins2  = pd.cut(df_en['n_document'].tolist(), bins=bin_range, include_lowest=True, right=False, retbins=True)\n",
    "print('document distribution:')\n",
    "df2 = pd.DataFrame({'EN_doc': out2.value_counts(), 'ZH_doc': out1.value_counts()})\n",
    "df2"
   ]
  },
  {
   "cell_type": "code",
   "execution_count": 55,
   "metadata": {},
   "outputs": [
    {
     "name": "stdout",
     "output_type": "stream",
     "text": [
      "sentence distribution:\n"
     ]
    },
    {
     "data": {
      "text/html": [
       "<div>\n",
       "<style>\n",
       "    .dataframe thead tr:only-child th {\n",
       "        text-align: right;\n",
       "    }\n",
       "\n",
       "    .dataframe thead th {\n",
       "        text-align: left;\n",
       "    }\n",
       "\n",
       "    .dataframe tbody tr th {\n",
       "        vertical-align: top;\n",
       "    }\n",
       "</style>\n",
       "<table border=\"1\" class=\"dataframe\">\n",
       "  <thead>\n",
       "    <tr style=\"text-align: right;\">\n",
       "      <th></th>\n",
       "      <th>EN_sen</th>\n",
       "      <th>ZH_sen</th>\n",
       "    </tr>\n",
       "  </thead>\n",
       "  <tbody>\n",
       "    <tr>\n",
       "      <th>[0, 1000)</th>\n",
       "      <td>760</td>\n",
       "      <td>4146</td>\n",
       "    </tr>\n",
       "    <tr>\n",
       "      <th>[1000, 2000)</th>\n",
       "      <td>275</td>\n",
       "      <td>10</td>\n",
       "    </tr>\n",
       "    <tr>\n",
       "      <th>[2000, 3000)</th>\n",
       "      <td>94</td>\n",
       "      <td>6</td>\n",
       "    </tr>\n",
       "    <tr>\n",
       "      <th>[3000, 4000)</th>\n",
       "      <td>38</td>\n",
       "      <td>3</td>\n",
       "    </tr>\n",
       "    <tr>\n",
       "      <th>[4000, 5000)</th>\n",
       "      <td>24</td>\n",
       "      <td>1</td>\n",
       "    </tr>\n",
       "    <tr>\n",
       "      <th>[5000, 6000)</th>\n",
       "      <td>4</td>\n",
       "      <td>0</td>\n",
       "    </tr>\n",
       "    <tr>\n",
       "      <th>[6000, 7000)</th>\n",
       "      <td>10</td>\n",
       "      <td>2</td>\n",
       "    </tr>\n",
       "    <tr>\n",
       "      <th>[7000, 8000)</th>\n",
       "      <td>6</td>\n",
       "      <td>0</td>\n",
       "    </tr>\n",
       "    <tr>\n",
       "      <th>[8000, 9000)</th>\n",
       "      <td>6</td>\n",
       "      <td>0</td>\n",
       "    </tr>\n",
       "    <tr>\n",
       "      <th>[9000, 10000)</th>\n",
       "      <td>3</td>\n",
       "      <td>0</td>\n",
       "    </tr>\n",
       "    <tr>\n",
       "      <th>[10000, 11000)</th>\n",
       "      <td>6</td>\n",
       "      <td>0</td>\n",
       "    </tr>\n",
       "    <tr>\n",
       "      <th>[11000, 12000)</th>\n",
       "      <td>1</td>\n",
       "      <td>0</td>\n",
       "    </tr>\n",
       "    <tr>\n",
       "      <th>[12000, 13000)</th>\n",
       "      <td>1</td>\n",
       "      <td>0</td>\n",
       "    </tr>\n",
       "    <tr>\n",
       "      <th>[13000, 14000)</th>\n",
       "      <td>0</td>\n",
       "      <td>0</td>\n",
       "    </tr>\n",
       "    <tr>\n",
       "      <th>[14000, 15000)</th>\n",
       "      <td>1</td>\n",
       "      <td>0</td>\n",
       "    </tr>\n",
       "    <tr>\n",
       "      <th>[15000, 16000)</th>\n",
       "      <td>1</td>\n",
       "      <td>0</td>\n",
       "    </tr>\n",
       "    <tr>\n",
       "      <th>[16000, 17000)</th>\n",
       "      <td>0</td>\n",
       "      <td>0</td>\n",
       "    </tr>\n",
       "    <tr>\n",
       "      <th>[17000, 18000)</th>\n",
       "      <td>1</td>\n",
       "      <td>0</td>\n",
       "    </tr>\n",
       "    <tr>\n",
       "      <th>[18000, 19000)</th>\n",
       "      <td>0</td>\n",
       "      <td>0</td>\n",
       "    </tr>\n",
       "    <tr>\n",
       "      <th>[19000, 20000)</th>\n",
       "      <td>0</td>\n",
       "      <td>0</td>\n",
       "    </tr>\n",
       "    <tr>\n",
       "      <th>[20000, 21000)</th>\n",
       "      <td>0</td>\n",
       "      <td>0</td>\n",
       "    </tr>\n",
       "    <tr>\n",
       "      <th>[21000, 22000)</th>\n",
       "      <td>0</td>\n",
       "      <td>0</td>\n",
       "    </tr>\n",
       "    <tr>\n",
       "      <th>[22000, 23000)</th>\n",
       "      <td>0</td>\n",
       "      <td>0</td>\n",
       "    </tr>\n",
       "    <tr>\n",
       "      <th>[23000, 24000)</th>\n",
       "      <td>1</td>\n",
       "      <td>0</td>\n",
       "    </tr>\n",
       "    <tr>\n",
       "      <th>[24000, 25000)</th>\n",
       "      <td>1</td>\n",
       "      <td>0</td>\n",
       "    </tr>\n",
       "    <tr>\n",
       "      <th>[25000, 26000)</th>\n",
       "      <td>0</td>\n",
       "      <td>0</td>\n",
       "    </tr>\n",
       "    <tr>\n",
       "      <th>[26000, 27000)</th>\n",
       "      <td>0</td>\n",
       "      <td>0</td>\n",
       "    </tr>\n",
       "    <tr>\n",
       "      <th>[27000, 28000)</th>\n",
       "      <td>0</td>\n",
       "      <td>0</td>\n",
       "    </tr>\n",
       "    <tr>\n",
       "      <th>[28000, 29000)</th>\n",
       "      <td>1</td>\n",
       "      <td>0</td>\n",
       "    </tr>\n",
       "    <tr>\n",
       "      <th>[29000, 30000)</th>\n",
       "      <td>0</td>\n",
       "      <td>0</td>\n",
       "    </tr>\n",
       "    <tr>\n",
       "      <th>[30000, 31000)</th>\n",
       "      <td>0</td>\n",
       "      <td>0</td>\n",
       "    </tr>\n",
       "    <tr>\n",
       "      <th>[31000, 32000)</th>\n",
       "      <td>0</td>\n",
       "      <td>0</td>\n",
       "    </tr>\n",
       "    <tr>\n",
       "      <th>[32000, 33000)</th>\n",
       "      <td>0</td>\n",
       "      <td>0</td>\n",
       "    </tr>\n",
       "    <tr>\n",
       "      <th>[33000, 34000)</th>\n",
       "      <td>0</td>\n",
       "      <td>0</td>\n",
       "    </tr>\n",
       "    <tr>\n",
       "      <th>[34000, 35000)</th>\n",
       "      <td>0</td>\n",
       "      <td>0</td>\n",
       "    </tr>\n",
       "    <tr>\n",
       "      <th>[35000, 36000)</th>\n",
       "      <td>0</td>\n",
       "      <td>0</td>\n",
       "    </tr>\n",
       "    <tr>\n",
       "      <th>[36000, 37000)</th>\n",
       "      <td>0</td>\n",
       "      <td>0</td>\n",
       "    </tr>\n",
       "    <tr>\n",
       "      <th>[37000, 38000)</th>\n",
       "      <td>1</td>\n",
       "      <td>0</td>\n",
       "    </tr>\n",
       "  </tbody>\n",
       "</table>\n",
       "</div>"
      ],
      "text/plain": [
       "                EN_sen  ZH_sen\n",
       "[0, 1000)          760    4146\n",
       "[1000, 2000)       275      10\n",
       "[2000, 3000)        94       6\n",
       "[3000, 4000)        38       3\n",
       "[4000, 5000)        24       1\n",
       "[5000, 6000)         4       0\n",
       "[6000, 7000)        10       2\n",
       "[7000, 8000)         6       0\n",
       "[8000, 9000)         6       0\n",
       "[9000, 10000)        3       0\n",
       "[10000, 11000)       6       0\n",
       "[11000, 12000)       1       0\n",
       "[12000, 13000)       1       0\n",
       "[13000, 14000)       0       0\n",
       "[14000, 15000)       1       0\n",
       "[15000, 16000)       1       0\n",
       "[16000, 17000)       0       0\n",
       "[17000, 18000)       1       0\n",
       "[18000, 19000)       0       0\n",
       "[19000, 20000)       0       0\n",
       "[20000, 21000)       0       0\n",
       "[21000, 22000)       0       0\n",
       "[22000, 23000)       0       0\n",
       "[23000, 24000)       1       0\n",
       "[24000, 25000)       1       0\n",
       "[25000, 26000)       0       0\n",
       "[26000, 27000)       0       0\n",
       "[27000, 28000)       0       0\n",
       "[28000, 29000)       1       0\n",
       "[29000, 30000)       0       0\n",
       "[30000, 31000)       0       0\n",
       "[31000, 32000)       0       0\n",
       "[32000, 33000)       0       0\n",
       "[33000, 34000)       0       0\n",
       "[34000, 35000)       0       0\n",
       "[35000, 36000)       0       0\n",
       "[36000, 37000)       0       0\n",
       "[37000, 38000)       1       0"
      ]
     },
     "execution_count": 55,
     "metadata": {},
     "output_type": "execute_result"
    }
   ],
   "source": [
    "#ZH_document distribution\n",
    "step = 1000\n",
    "bin_range = np.arange(0, 39000, step)\n",
    "out1, bins1  = pd.cut(df_zh['n_sentence'].tolist(), bins=bin_range, include_lowest=True, right=False, retbins=True)\n",
    "out2, bins2  = pd.cut(df_en['n_sentence'].tolist(), bins=bin_range, include_lowest=True, right=False, retbins=True)\n",
    "print('sentence distribution:')\n",
    "df2 = pd.DataFrame({'EN_sen': out2.value_counts(), 'ZH_sen': out1.value_counts()})\n",
    "df2"
   ]
  },
  {
   "cell_type": "code",
   "execution_count": 17,
   "metadata": {
    "scrolled": false
   },
   "outputs": [
    {
     "name": "stdout",
     "output_type": "stream",
     "text": [
      "ZH_sentence distribution:\n"
     ]
    },
    {
     "data": {
      "text/html": [
       "<div>\n",
       "<style>\n",
       "    .dataframe thead tr:only-child th {\n",
       "        text-align: right;\n",
       "    }\n",
       "\n",
       "    .dataframe thead th {\n",
       "        text-align: left;\n",
       "    }\n",
       "\n",
       "    .dataframe tbody tr th {\n",
       "        vertical-align: top;\n",
       "    }\n",
       "</style>\n",
       "<table border=\"1\" class=\"dataframe\">\n",
       "  <thead>\n",
       "    <tr style=\"text-align: right;\">\n",
       "      <th></th>\n",
       "      <th>0</th>\n",
       "    </tr>\n",
       "  </thead>\n",
       "  <tbody>\n",
       "    <tr>\n",
       "      <th>[0, 500)</th>\n",
       "      <td>4105</td>\n",
       "    </tr>\n",
       "    <tr>\n",
       "      <th>[500, 1000)</th>\n",
       "      <td>41</td>\n",
       "    </tr>\n",
       "    <tr>\n",
       "      <th>[1000, 1500)</th>\n",
       "      <td>8</td>\n",
       "    </tr>\n",
       "    <tr>\n",
       "      <th>[1500, 2000)</th>\n",
       "      <td>2</td>\n",
       "    </tr>\n",
       "    <tr>\n",
       "      <th>[2000, 2500)</th>\n",
       "      <td>5</td>\n",
       "    </tr>\n",
       "    <tr>\n",
       "      <th>[2500, 3000)</th>\n",
       "      <td>1</td>\n",
       "    </tr>\n",
       "    <tr>\n",
       "      <th>[3000, 3500)</th>\n",
       "      <td>2</td>\n",
       "    </tr>\n",
       "    <tr>\n",
       "      <th>[3500, 4000)</th>\n",
       "      <td>1</td>\n",
       "    </tr>\n",
       "    <tr>\n",
       "      <th>[4000, 4500)</th>\n",
       "      <td>0</td>\n",
       "    </tr>\n",
       "    <tr>\n",
       "      <th>[4500, 5000)</th>\n",
       "      <td>1</td>\n",
       "    </tr>\n",
       "    <tr>\n",
       "      <th>[5000, 5500)</th>\n",
       "      <td>0</td>\n",
       "    </tr>\n",
       "    <tr>\n",
       "      <th>[5500, 6000)</th>\n",
       "      <td>0</td>\n",
       "    </tr>\n",
       "    <tr>\n",
       "      <th>[6000, 6500)</th>\n",
       "      <td>1</td>\n",
       "    </tr>\n",
       "  </tbody>\n",
       "</table>\n",
       "</div>"
      ],
      "text/plain": [
       "                 0\n",
       "[0, 500)      4105\n",
       "[500, 1000)     41\n",
       "[1000, 1500)     8\n",
       "[1500, 2000)     2\n",
       "[2000, 2500)     5\n",
       "[2500, 3000)     1\n",
       "[3000, 3500)     2\n",
       "[3500, 4000)     1\n",
       "[4000, 4500)     0\n",
       "[4500, 5000)     1\n",
       "[5000, 5500)     0\n",
       "[5500, 6000)     0\n",
       "[6000, 6500)     1"
      ]
     },
     "execution_count": 17,
     "metadata": {},
     "output_type": "execute_result"
    }
   ],
   "source": [
    "#ZH_document sentence\n",
    "step = 500\n",
    "bin_range = np.arange(0, 7000, step)\n",
    "out, bins  = pd.cut(df_zh['n_sentence'].tolist(), bins=bin_range, include_lowest=True, right=False, retbins=True)\n",
    "print('ZH_sentence distribution:')\n",
    "out.value_counts().to_frame()"
   ]
  },
  {
   "cell_type": "markdown",
   "metadata": {},
   "source": [
    "## SAME Entity types in both language"
   ]
  },
  {
   "cell_type": "code",
   "execution_count": 56,
   "metadata": {},
   "outputs": [
    {
     "data": {
      "text/plain": [
       "1235"
      ]
     },
     "execution_count": 56,
     "metadata": {},
     "output_type": "execute_result"
    }
   ],
   "source": [
    "lt_zh = df_zh['entity_type'].tolist()\n",
    "lt_en = df_en['entity_type'].tolist()\n",
    "len(set(lt_zh) & set(lt_en))"
   ]
  },
  {
   "cell_type": "markdown",
   "metadata": {},
   "source": [
    "### number of document of each entity type sort by entity name in alphabet order"
   ]
  },
  {
   "cell_type": "code",
   "execution_count": 70,
   "metadata": {},
   "outputs": [
    {
     "data": {
      "image/png": "iVBORw0KGgoAAAANSUhEUgAAA7YAAAFNCAYAAAA0MPNrAAAABHNCSVQICAgIfAhkiAAAAAlwSFlz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\nRU5ErkJggg==\n",
      "text/plain": [
       "<matplotlib.figure.Figure at 0x118157080>"
      ]
     },
     "metadata": {},
     "output_type": "display_data"
    }
   ],
   "source": [
    "zh_doc = df_zh.sort_values('entity_type')['n_document'].tolist()\n",
    "en_doc = df_en.sort_values('entity_type')['n_document'].tolist()\n",
    "\n",
    "plt.figure(figsize=(16,5))\n",
    "x_zh = list(range(0,len(zh_doc)))\n",
    "x_en = list(range(0,len(en_doc))) \n",
    "            \n",
    "plt.plot(x_zh,zh_doc,label = 'doc_zh', alpha=0.7)\n",
    "plt.plot(x_en,en_doc,label = 'doc_en', alpha=0.7)\n",
    "plt.title(\"document per enetity type in alphabet order\")\n",
    "plt.xlabel(\"A to Z\")\n",
    "plt.ylabel(\"number of document\")\n",
    "plt.grid(linestyle='-', linewidth=2)\n",
    "plt.legend()\n",
    "plt.show()"
   ]
  },
  {
   "cell_type": "markdown",
   "metadata": {},
   "source": [
    "### number of sentence of each entity type sort by entity name in alphabet order"
   ]
  },
  {
   "cell_type": "code",
   "execution_count": 71,
   "metadata": {},
   "outputs": [
    {
     "data": {
      "image/png": "iVBORw0KGgoAAAANSUhEUgAAA8MAAAFNCAYAAAAkUL23AAAABHNCSVQICAgIfAhkiAAAAAlwSFlz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\nlFJKKaWUmnP+PyeueJA/UwooAAAAAElFTkSuQmCC\n",
      "text/plain": [
       "<matplotlib.figure.Figure at 0x1176abd68>"
      ]
     },
     "metadata": {},
     "output_type": "display_data"
    }
   ],
   "source": [
    "zh_doc = df_zh.sort_values('entity_type')['n_sentence'].tolist()\n",
    "en_doc = df_en.sort_values('entity_type')['n_sentence'].tolist()\n",
    "\n",
    "plt.figure(figsize=(16,5))\n",
    "x_zh = list(range(0,len(zh_doc)))\n",
    "x_en = list(range(0,len(en_doc))) \n",
    "            \n",
    "plt.plot(x_zh,zh_doc,label = 'sen_zh', alpha=0.7)\n",
    "plt.plot(x_en,en_doc,label = 'sen_en', alpha=0.7)\n",
    "plt.title(\"sentences per enetity type in alphabet order\")\n",
    "plt.xlabel(\"A to Z\")\n",
    "plt.ylabel(\"number of sentence\")\n",
    "plt.grid(linestyle='-', linewidth=2)\n",
    "plt.legend()\n",
    "plt.show()"
   ]
  },
  {
   "cell_type": "code",
   "execution_count": 8,
   "metadata": {},
   "outputs": [
    {
     "data": {
      "text/plain": [
       "(array([], dtype=int64),)"
      ]
     },
     "execution_count": 8,
     "metadata": {},
     "output_type": "execute_result"
    }
   ],
   "source": [
    "(df_zh[\"n_MISC\"] - df_zh[\"n_ALL\"]).nonzero()"
   ]
  },
  {
   "cell_type": "code",
   "execution_count": 9,
   "metadata": {},
   "outputs": [
    {
     "data": {
      "text/plain": [
       "(array([], dtype=int64),)"
      ]
     },
     "execution_count": 9,
     "metadata": {},
     "output_type": "execute_result"
    }
   ],
   "source": [
    "(df_en[\"n_MISC\"] - df_en[\"n_ALL\"]).nonzero()"
   ]
  },
  {
   "cell_type": "markdown",
   "metadata": {},
   "source": [
    "## question :\n",
    "\n",
    "    * how to interpret the entity type name format : like what is the meansing and relation for the digits <105845013>, <106410904> in Genus105845013,Book106410904. i had check in https://nlp.cs.rpi.edu/kbp/2018/taxonomy/, but there seem not relation or coherent in the entity type that are closing.\n",
    "    \n",
    "    \n",
    "    * i think we need to group the entity name like https://nlp.cs.rpi.edu/kbp/2018/taxonomy/ does, to analyze the confusion between Sibling entity type and if check the accuracy if we just predict its parent-entity type."
   ]
  },
  {
   "cell_type": "code",
   "execution_count": 14,
   "metadata": {},
   "outputs": [
    {
     "data": {
      "text/html": [
       "<div>\n",
       "<style>\n",
       "    .dataframe thead tr:only-child th {\n",
       "        text-align: right;\n",
       "    }\n",
       "\n",
       "    .dataframe thead th {\n",
       "        text-align: left;\n",
       "    }\n",
       "\n",
       "    .dataframe tbody tr th {\n",
       "        vertical-align: top;\n",
       "    }\n",
       "</style>\n",
       "<table border=\"1\" class=\"dataframe\">\n",
       "  <thead>\n",
       "    <tr style=\"text-align: right;\">\n",
       "      <th></th>\n",
       "      <th>entity_type</th>\n",
       "      <th>n_document</th>\n",
       "      <th>n_sentence</th>\n",
       "      <th>n_token</th>\n",
       "      <th>n_MISC</th>\n",
       "      <th>n_ALL</th>\n",
       "    </tr>\n",
       "  </thead>\n",
       "  <tbody>\n",
       "    <tr>\n",
       "      <th>1017</th>\n",
       "      <td>Abbey102667576</td>\n",
       "      <td>8</td>\n",
       "      <td>780</td>\n",
       "      <td>22593</td>\n",
       "      <td>855</td>\n",
       "      <td>855</td>\n",
       "    </tr>\n",
       "    <tr>\n",
       "      <th>335</th>\n",
       "      <td>AbsorptionIndicator114598383</td>\n",
       "      <td>3</td>\n",
       "      <td>250</td>\n",
       "      <td>5792</td>\n",
       "      <td>318</td>\n",
       "      <td>318</td>\n",
       "    </tr>\n",
       "    <tr>\n",
       "      <th>618</th>\n",
       "      <td>Abstractionist109758424</td>\n",
       "      <td>12</td>\n",
       "      <td>1104</td>\n",
       "      <td>35990</td>\n",
       "      <td>1534</td>\n",
       "      <td>1534</td>\n",
       "    </tr>\n",
       "    <tr>\n",
       "      <th>140</th>\n",
       "      <td>AcademicDegree106697331</td>\n",
       "      <td>155</td>\n",
       "      <td>15426</td>\n",
       "      <td>418622</td>\n",
       "      <td>22568</td>\n",
       "      <td>22568</td>\n",
       "    </tr>\n",
       "    <tr>\n",
       "      <th>81</th>\n",
       "      <td>Accessory102671780</td>\n",
       "      <td>13</td>\n",
       "      <td>1299</td>\n",
       "      <td>33306</td>\n",
       "      <td>1436</td>\n",
       "      <td>1436</td>\n",
       "    </tr>\n",
       "  </tbody>\n",
       "</table>\n",
       "</div>"
      ],
      "text/plain": [
       "                       entity_type  n_document  n_sentence  n_token  n_MISC  \\\n",
       "1017                Abbey102667576           8         780    22593     855   \n",
       "335   AbsorptionIndicator114598383           3         250     5792     318   \n",
       "618        Abstractionist109758424          12        1104    35990    1534   \n",
       "140        AcademicDegree106697331         155       15426   418622   22568   \n",
       "81              Accessory102671780          13        1299    33306    1436   \n",
       "\n",
       "      n_ALL  \n",
       "1017    855  \n",
       "335     318  \n",
       "618    1534  \n",
       "140   22568  \n",
       "81     1436  "
      ]
     },
     "execution_count": 14,
     "metadata": {},
     "output_type": "execute_result"
    }
   ],
   "source": [
    "df_en.sort_values('entity_type').head(5)"
   ]
  },
  {
   "cell_type": "code",
   "execution_count": null,
   "metadata": {
    "collapsed": true
   },
   "outputs": [],
   "source": []
  }
 ],
 "metadata": {
  "kernelspec": {
   "display_name": "Python 3",
   "language": "python",
   "name": "python3"
  },
  "language_info": {
   "codemirror_mode": {
    "name": "ipython",
    "version": 3
   },
   "file_extension": ".py",
   "mimetype": "text/x-python",
   "name": "python",
   "nbconvert_exporter": "python",
   "pygments_lexer": "ipython3",
   "version": "3.5.2"
  }
 },
 "nbformat": 4,
 "nbformat_minor": 2
}
