{
 "cells": [
  {
   "cell_type": "code",
   "execution_count": 2,
   "metadata": {
    "collapsed": true
   },
   "outputs": [],
   "source": [
    "import math\n",
    "import pickle\n",
    "import numpy as np\n",
    "import pandas as pd\n",
    "import matplotlib.pyplot as plt"
   ]
  },
  {
   "cell_type": "code",
   "execution_count": 3,
   "metadata": {},
   "outputs": [
    {
     "name": "stdout",
     "output_type": "stream",
     "text": [
      "StateCapital: F1_mean= 0.92242 F1_std = 0.027267519139078256\n",
      "Prefecture: F1_mean= 0.9097 F1_std = 0.025859853054493568\n"
     ]
    }
   ],
   "source": [
    "state =[0.8707,0.9281,0.9287,0.9328,0.9518]\n",
    "perfecture = [0.8813,0.8808,0.9452,0.9307,0.9105]\n",
    "\n",
    "print('StateCapital: F1_mean=',sum(state)/5,'F1_std =',np.std(state))\n",
    "print('Prefecture: F1_mean=',sum(perfecture)/5,'F1_std =',np.std(perfecture))"
   ]
  },
  {
   "cell_type": "markdown",
   "metadata": {},
   "source": [
    "# file statistic"
   ]
  },
  {
   "cell_type": "code",
   "execution_count": 3,
   "metadata": {},
   "outputs": [
    {
     "data": {
      "text/html": [
       "<div>\n",
       "<style>\n",
       "    .dataframe thead tr:only-child th {\n",
       "        text-align: right;\n",
       "    }\n",
       "\n",
       "    .dataframe thead th {\n",
       "        text-align: left;\n",
       "    }\n",
       "\n",
       "    .dataframe tbody tr th {\n",
       "        vertical-align: top;\n",
       "    }\n",
       "</style>\n",
       "<table border=\"1\" class=\"dataframe\">\n",
       "  <thead>\n",
       "    <tr style=\"text-align: right;\">\n",
       "      <th></th>\n",
       "      <th>en_conll_file_number</th>\n",
       "      <th>en_conll_file_size</th>\n",
       "      <th>zh_conll_file_number</th>\n",
       "      <th>zh_conll_file_size</th>\n",
       "    </tr>\n",
       "  </thead>\n",
       "  <tbody>\n",
       "    <tr>\n",
       "      <th>0</th>\n",
       "      <td>1235</td>\n",
       "      <td>546 MB</td>\n",
       "      <td>4168</td>\n",
       "      <td>87 MB</td>\n",
       "    </tr>\n",
       "  </tbody>\n",
       "</table>\n",
       "</div>"
      ],
      "text/plain": [
       "   en_conll_file_number en_conll_file_size  zh_conll_file_number  \\\n",
       "0                  1235             546 MB                  4168   \n",
       "\n",
       "  zh_conll_file_size  \n",
       "0              87 MB  "
      ]
     },
     "execution_count": 3,
     "metadata": {},
     "output_type": "execute_result"
    }
   ],
   "source": [
    "df_file = pd.DataFrame({'en_conll_file_size':['546 MB'],'en_conll_file_number':[1235],\n",
    "                    'zh_conll_file_size':['87 MB'],'zh_conll_file_number':[4168]})\n",
    "df_file"
   ]
  },
  {
   "cell_type": "markdown",
   "metadata": {},
   "source": [
    "## ZH statistic"
   ]
  },
  {
   "cell_type": "code",
   "execution_count": 2,
   "metadata": {},
   "outputs": [
    {
     "data": {
      "text/html": [
       "<div>\n",
       "<style scoped>\n",
       "    .dataframe tbody tr th:only-of-type {\n",
       "        vertical-align: middle;\n",
       "    }\n",
       "\n",
       "    .dataframe tbody tr th {\n",
       "        vertical-align: top;\n",
       "    }\n",
       "\n",
       "    .dataframe thead th {\n",
       "        text-align: right;\n",
       "    }\n",
       "</style>\n",
       "<table border=\"1\" class=\"dataframe\">\n",
       "  <thead>\n",
       "    <tr style=\"text-align: right;\">\n",
       "      <th></th>\n",
       "      <th>entity_type</th>\n",
       "      <th>n_document</th>\n",
       "      <th>n_sentence</th>\n",
       "      <th>n_token</th>\n",
       "      <th>n_MISC</th>\n",
       "      <th>n_ALL</th>\n",
       "    </tr>\n",
       "  </thead>\n",
       "  <tbody>\n",
       "    <tr>\n",
       "      <th>0</th>\n",
       "      <td>Organizer110383505</td>\n",
       "      <td>1</td>\n",
       "      <td>10</td>\n",
       "      <td>293</td>\n",
       "      <td>10</td>\n",
       "      <td>10</td>\n",
       "    </tr>\n",
       "    <tr>\n",
       "      <th>1</th>\n",
       "      <td>Passerine101524359</td>\n",
       "      <td>1</td>\n",
       "      <td>8</td>\n",
       "      <td>195</td>\n",
       "      <td>10</td>\n",
       "      <td>10</td>\n",
       "    </tr>\n",
       "    <tr>\n",
       "      <th>2</th>\n",
       "      <td>WrittenAgreement106771653</td>\n",
       "      <td>0</td>\n",
       "      <td>0</td>\n",
       "      <td>0</td>\n",
       "      <td>0</td>\n",
       "      <td>0</td>\n",
       "    </tr>\n",
       "    <tr>\n",
       "      <th>3</th>\n",
       "      <td>Antibiotic102716866</td>\n",
       "      <td>1</td>\n",
       "      <td>22</td>\n",
       "      <td>635</td>\n",
       "      <td>28</td>\n",
       "      <td>28</td>\n",
       "    </tr>\n",
       "    <tr>\n",
       "      <th>4</th>\n",
       "      <td>Hurling100470830</td>\n",
       "      <td>0</td>\n",
       "      <td>0</td>\n",
       "      <td>0</td>\n",
       "      <td>0</td>\n",
       "      <td>0</td>\n",
       "    </tr>\n",
       "  </tbody>\n",
       "</table>\n",
       "</div>"
      ],
      "text/plain": [
       "                 entity_type  n_document  n_sentence  n_token  n_MISC  n_ALL\n",
       "0         Organizer110383505           1          10      293      10     10\n",
       "1         Passerine101524359           1           8      195      10     10\n",
       "2  WrittenAgreement106771653           0           0        0       0      0\n",
       "3        Antibiotic102716866           1          22      635      28     28\n",
       "4           Hurling100470830           0           0        0       0      0"
      ]
     },
     "execution_count": 2,
     "metadata": {},
     "output_type": "execute_result"
    }
   ],
   "source": [
    "# read ZH data statistic\n",
    "file_path = '/Users/liangjianzhong/Desktop/internship/EDL-2018/result/statistic/zh_result.txt'\n",
    "with open(file_path, \"rb\") as f:\n",
    "    ls_entity_type2,ls_n_document2,ls_n_sentence2,ls_n_token2,ls_n_MISC2,ls_n_ALL2 = pickle.load(f) \n",
    "    \n",
    "    \n",
    "df_zh = pd.DataFrame({'entity_type':ls_entity_type2,'n_document':ls_n_document2,\n",
    "                    'n_sentence':ls_n_sentence2,'n_token':ls_n_token2,'n_MISC':ls_n_MISC2,'n_ALL':ls_n_ALL2})\n",
    "df_zh = df_zh[['entity_type','n_document','n_sentence','n_token','n_MISC','n_ALL']]\n",
    "\n",
    "df_zh.head(5)"
   ]
  },
  {
   "cell_type": "code",
   "execution_count": 7,
   "metadata": {
    "scrolled": true
   },
   "outputs": [
    {
     "data": {
      "text/html": [
       "<div>\n",
       "<style>\n",
       "    .dataframe thead tr:only-child th {\n",
       "        text-align: right;\n",
       "    }\n",
       "\n",
       "    .dataframe thead th {\n",
       "        text-align: left;\n",
       "    }\n",
       "\n",
       "    .dataframe tbody tr th {\n",
       "        vertical-align: top;\n",
       "    }\n",
       "</style>\n",
       "<table border=\"1\" class=\"dataframe\">\n",
       "  <thead>\n",
       "    <tr style=\"text-align: right;\">\n",
       "      <th></th>\n",
       "      <th>n_document</th>\n",
       "      <th>n_sentence</th>\n",
       "      <th>n_token</th>\n",
       "      <th>n_MISC</th>\n",
       "      <th>n_ALL</th>\n",
       "    </tr>\n",
       "  </thead>\n",
       "  <tbody>\n",
       "    <tr>\n",
       "      <th>count</th>\n",
       "      <td>4168.000000</td>\n",
       "      <td>4168.000000</td>\n",
       "      <td>4168.000000</td>\n",
       "      <td>4168.000000</td>\n",
       "      <td>4168.000000</td>\n",
       "    </tr>\n",
       "    <tr>\n",
       "      <th>mean</th>\n",
       "      <td>1.139875</td>\n",
       "      <td>57.705134</td>\n",
       "      <td>1588.566459</td>\n",
       "      <td>66.757917</td>\n",
       "      <td>66.757917</td>\n",
       "    </tr>\n",
       "    <tr>\n",
       "      <th>std</th>\n",
       "      <td>2.352511</td>\n",
       "      <td>233.221696</td>\n",
       "      <td>6770.487300</td>\n",
       "      <td>282.202418</td>\n",
       "      <td>282.202418</td>\n",
       "    </tr>\n",
       "    <tr>\n",
       "      <th>min</th>\n",
       "      <td>0.000000</td>\n",
       "      <td>0.000000</td>\n",
       "      <td>0.000000</td>\n",
       "      <td>0.000000</td>\n",
       "      <td>0.000000</td>\n",
       "    </tr>\n",
       "    <tr>\n",
       "      <th>25%</th>\n",
       "      <td>1.000000</td>\n",
       "      <td>1.000000</td>\n",
       "      <td>15.000000</td>\n",
       "      <td>1.000000</td>\n",
       "      <td>1.000000</td>\n",
       "    </tr>\n",
       "    <tr>\n",
       "      <th>50%</th>\n",
       "      <td>1.000000</td>\n",
       "      <td>11.000000</td>\n",
       "      <td>278.500000</td>\n",
       "      <td>13.000000</td>\n",
       "      <td>13.000000</td>\n",
       "    </tr>\n",
       "    <tr>\n",
       "      <th>75%</th>\n",
       "      <td>1.000000</td>\n",
       "      <td>46.000000</td>\n",
       "      <td>1224.250000</td>\n",
       "      <td>50.250000</td>\n",
       "      <td>50.250000</td>\n",
       "    </tr>\n",
       "    <tr>\n",
       "      <th>max</th>\n",
       "      <td>69.000000</td>\n",
       "      <td>6807.000000</td>\n",
       "      <td>193808.000000</td>\n",
       "      <td>7840.000000</td>\n",
       "      <td>7840.000000</td>\n",
       "    </tr>\n",
       "  </tbody>\n",
       "</table>\n",
       "</div>"
      ],
      "text/plain": [
       "        n_document   n_sentence        n_token       n_MISC        n_ALL\n",
       "count  4168.000000  4168.000000    4168.000000  4168.000000  4168.000000\n",
       "mean      1.139875    57.705134    1588.566459    66.757917    66.757917\n",
       "std       2.352511   233.221696    6770.487300   282.202418   282.202418\n",
       "min       0.000000     0.000000       0.000000     0.000000     0.000000\n",
       "25%       1.000000     1.000000      15.000000     1.000000     1.000000\n",
       "50%       1.000000    11.000000     278.500000    13.000000    13.000000\n",
       "75%       1.000000    46.000000    1224.250000    50.250000    50.250000\n",
       "max      69.000000  6807.000000  193808.000000  7840.000000  7840.000000"
      ]
     },
     "execution_count": 7,
     "metadata": {},
     "output_type": "execute_result"
    }
   ],
   "source": [
    "# statistic of ZH\n",
    "df_zh.describe()"
   ]
  },
  {
   "cell_type": "markdown",
   "metadata": {},
   "source": [
    "## EN statistic"
   ]
  },
  {
   "cell_type": "code",
   "execution_count": 14,
   "metadata": {},
   "outputs": [
    {
     "data": {
      "text/html": [
       "<div>\n",
       "<style scoped>\n",
       "    .dataframe tbody tr th:only-of-type {\n",
       "        vertical-align: middle;\n",
       "    }\n",
       "\n",
       "    .dataframe tbody tr th {\n",
       "        vertical-align: top;\n",
       "    }\n",
       "\n",
       "    .dataframe thead th {\n",
       "        text-align: right;\n",
       "    }\n",
       "</style>\n",
       "<table border=\"1\" class=\"dataframe\">\n",
       "  <thead>\n",
       "    <tr style=\"text-align: right;\">\n",
       "      <th></th>\n",
       "      <th>entity_type</th>\n",
       "      <th>n_document</th>\n",
       "      <th>n_sentence</th>\n",
       "      <th>n_token</th>\n",
       "      <th>n_MISC</th>\n",
       "      <th>n_ALL</th>\n",
       "    </tr>\n",
       "  </thead>\n",
       "  <tbody>\n",
       "    <tr>\n",
       "      <th>274</th>\n",
       "      <td>Fastener103323703</td>\n",
       "      <td>9</td>\n",
       "      <td>838</td>\n",
       "      <td>19446</td>\n",
       "      <td>913</td>\n",
       "      <td>913</td>\n",
       "    </tr>\n",
       "    <tr>\n",
       "      <th>408</th>\n",
       "      <td>Century115205532</td>\n",
       "      <td>8</td>\n",
       "      <td>738</td>\n",
       "      <td>16574</td>\n",
       "      <td>837</td>\n",
       "      <td>837</td>\n",
       "    </tr>\n",
       "    <tr>\n",
       "      <th>468</th>\n",
       "      <td>Organization101136519</td>\n",
       "      <td>38</td>\n",
       "      <td>3759</td>\n",
       "      <td>105031</td>\n",
       "      <td>3775</td>\n",
       "      <td>3775</td>\n",
       "    </tr>\n",
       "    <tr>\n",
       "      <th>991</th>\n",
       "      <td>ChemicalPhenomenon111409059</td>\n",
       "      <td>9</td>\n",
       "      <td>825</td>\n",
       "      <td>22625</td>\n",
       "      <td>867</td>\n",
       "      <td>867</td>\n",
       "    </tr>\n",
       "    <tr>\n",
       "      <th>1001</th>\n",
       "      <td>MammalFamily101862557</td>\n",
       "      <td>27</td>\n",
       "      <td>2680</td>\n",
       "      <td>65924</td>\n",
       "      <td>3266</td>\n",
       "      <td>3266</td>\n",
       "    </tr>\n",
       "  </tbody>\n",
       "</table>\n",
       "</div>"
      ],
      "text/plain": [
       "                      entity_type  n_document  n_sentence  n_token  n_MISC  \\\n",
       "274             Fastener103323703           9         838    19446     913   \n",
       "408              Century115205532           8         738    16574     837   \n",
       "468         Organization101136519          38        3759   105031    3775   \n",
       "991   ChemicalPhenomenon111409059           9         825    22625     867   \n",
       "1001        MammalFamily101862557          27        2680    65924    3266   \n",
       "\n",
       "      n_ALL  \n",
       "274     913  \n",
       "408     837  \n",
       "468    3775  \n",
       "991     867  \n",
       "1001   3266  "
      ]
     },
     "execution_count": 14,
     "metadata": {},
     "output_type": "execute_result"
    }
   ],
   "source": [
    "ls = ['Century115205532', 'ChemicalPhenomenon111409059', \n",
    "      'Fastener103323703', 'MammalFamily101862557', 'Organization101136519']\n",
    "df_en.loc[df_en['entity_type'].isin(ls)]"
   ]
  },
  {
   "cell_type": "code",
   "execution_count": 3,
   "metadata": {},
   "outputs": [],
   "source": [
    "# read EN data statistic\n",
    "file_path = '/Users/liangjianzhong/Desktop/internship/EDL-2018/result/statistic/en_result.txt'\n",
    "with open(file_path, \"rb\") as f:\n",
    "    ls_entity_type2,ls_n_document2,ls_n_sentence2,ls_n_token2,ls_n_MISC2,ls_n_ALL2 = pickle.load(f) \n",
    "    \n",
    "    \n",
    "df_en = pd.DataFrame({'entity_type':ls_entity_type2,'n_document':ls_n_document2,\n",
    "                    'n_sentence':ls_n_sentence2,'n_token':ls_n_token2,'n_MISC':ls_n_MISC2,'n_ALL':ls_n_ALL2})\n",
    "df_en = df_en[['entity_type','n_document','n_sentence','n_token','n_MISC','n_ALL']]"
   ]
  },
  {
   "cell_type": "code",
   "execution_count": 4,
   "metadata": {},
   "outputs": [
    {
     "data": {
      "text/html": [
       "<div>\n",
       "<style scoped>\n",
       "    .dataframe tbody tr th:only-of-type {\n",
       "        vertical-align: middle;\n",
       "    }\n",
       "\n",
       "    .dataframe tbody tr th {\n",
       "        vertical-align: top;\n",
       "    }\n",
       "\n",
       "    .dataframe thead th {\n",
       "        text-align: right;\n",
       "    }\n",
       "</style>\n",
       "<table border=\"1\" class=\"dataframe\">\n",
       "  <thead>\n",
       "    <tr style=\"text-align: right;\">\n",
       "      <th></th>\n",
       "      <th>entity_type</th>\n",
       "      <th>n_document</th>\n",
       "      <th>n_sentence</th>\n",
       "      <th>n_token</th>\n",
       "      <th>n_MISC</th>\n",
       "      <th>n_ALL</th>\n",
       "    </tr>\n",
       "  </thead>\n",
       "  <tbody>\n",
       "    <tr>\n",
       "      <th>0</th>\n",
       "      <td>StockTrader110657835</td>\n",
       "      <td>18</td>\n",
       "      <td>1753</td>\n",
       "      <td>52868</td>\n",
       "      <td>1907</td>\n",
       "      <td>1907</td>\n",
       "    </tr>\n",
       "    <tr>\n",
       "      <th>1</th>\n",
       "      <td>Ma110278128</td>\n",
       "      <td>13</td>\n",
       "      <td>1239</td>\n",
       "      <td>37578</td>\n",
       "      <td>1514</td>\n",
       "      <td>1514</td>\n",
       "    </tr>\n",
       "    <tr>\n",
       "      <th>2</th>\n",
       "      <td>HighPriest110175248</td>\n",
       "      <td>7</td>\n",
       "      <td>636</td>\n",
       "      <td>19265</td>\n",
       "      <td>836</td>\n",
       "      <td>836</td>\n",
       "    </tr>\n",
       "    <tr>\n",
       "      <th>3</th>\n",
       "      <td>Meteorite109352849</td>\n",
       "      <td>4</td>\n",
       "      <td>315</td>\n",
       "      <td>6289</td>\n",
       "      <td>340</td>\n",
       "      <td>340</td>\n",
       "    </tr>\n",
       "    <tr>\n",
       "      <th>4</th>\n",
       "      <td>Pipe103944672</td>\n",
       "      <td>11</td>\n",
       "      <td>1079</td>\n",
       "      <td>28401</td>\n",
       "      <td>1366</td>\n",
       "      <td>1366</td>\n",
       "    </tr>\n",
       "  </tbody>\n",
       "</table>\n",
       "</div>"
      ],
      "text/plain": [
       "            entity_type  n_document  n_sentence  n_token  n_MISC  n_ALL\n",
       "0  StockTrader110657835          18        1753    52868    1907   1907\n",
       "1           Ma110278128          13        1239    37578    1514   1514\n",
       "2   HighPriest110175248           7         636    19265     836    836\n",
       "3    Meteorite109352849           4         315     6289     340    340\n",
       "4         Pipe103944672          11        1079    28401    1366   1366"
      ]
     },
     "execution_count": 4,
     "metadata": {},
     "output_type": "execute_result"
    }
   ],
   "source": [
    "df_en.head(5)"
   ]
  },
  {
   "cell_type": "code",
   "execution_count": 20,
   "metadata": {},
   "outputs": [
    {
     "data": {
      "text/html": [
       "<div>\n",
       "<style>\n",
       "    .dataframe thead tr:only-child th {\n",
       "        text-align: right;\n",
       "    }\n",
       "\n",
       "    .dataframe thead th {\n",
       "        text-align: left;\n",
       "    }\n",
       "\n",
       "    .dataframe tbody tr th {\n",
       "        vertical-align: top;\n",
       "    }\n",
       "</style>\n",
       "<table border=\"1\" class=\"dataframe\">\n",
       "  <thead>\n",
       "    <tr style=\"text-align: right;\">\n",
       "      <th></th>\n",
       "      <th>n_document</th>\n",
       "      <th>n_sentence</th>\n",
       "      <th>n_token</th>\n",
       "      <th>n_MISC</th>\n",
       "      <th>n_ALL</th>\n",
       "    </tr>\n",
       "  </thead>\n",
       "  <tbody>\n",
       "    <tr>\n",
       "      <th>count</th>\n",
       "      <td>1235.000000</td>\n",
       "      <td>1235.000000</td>\n",
       "      <td>1.235000e+03</td>\n",
       "      <td>1235.000000</td>\n",
       "      <td>1235.000000</td>\n",
       "    </tr>\n",
       "    <tr>\n",
       "      <th>mean</th>\n",
       "      <td>14.284211</td>\n",
       "      <td>1378.661538</td>\n",
       "      <td>3.822384e+04</td>\n",
       "      <td>1643.449393</td>\n",
       "      <td>1643.449393</td>\n",
       "    </tr>\n",
       "    <tr>\n",
       "      <th>std</th>\n",
       "      <td>23.154356</td>\n",
       "      <td>2316.398490</td>\n",
       "      <td>6.437524e+04</td>\n",
       "      <td>2836.905542</td>\n",
       "      <td>2836.905542</td>\n",
       "    </tr>\n",
       "    <tr>\n",
       "      <th>min</th>\n",
       "      <td>1.000000</td>\n",
       "      <td>84.000000</td>\n",
       "      <td>1.133000e+03</td>\n",
       "      <td>101.000000</td>\n",
       "      <td>101.000000</td>\n",
       "    </tr>\n",
       "    <tr>\n",
       "      <th>25%</th>\n",
       "      <td>5.000000</td>\n",
       "      <td>425.500000</td>\n",
       "      <td>1.064900e+04</td>\n",
       "      <td>482.000000</td>\n",
       "      <td>482.000000</td>\n",
       "    </tr>\n",
       "    <tr>\n",
       "      <th>50%</th>\n",
       "      <td>8.000000</td>\n",
       "      <td>744.000000</td>\n",
       "      <td>1.945200e+04</td>\n",
       "      <td>867.000000</td>\n",
       "      <td>867.000000</td>\n",
       "    </tr>\n",
       "    <tr>\n",
       "      <th>75%</th>\n",
       "      <td>15.000000</td>\n",
       "      <td>1449.000000</td>\n",
       "      <td>4.043500e+04</td>\n",
       "      <td>1694.000000</td>\n",
       "      <td>1694.000000</td>\n",
       "    </tr>\n",
       "    <tr>\n",
       "      <th>max</th>\n",
       "      <td>374.000000</td>\n",
       "      <td>37373.000000</td>\n",
       "      <td>1.029345e+06</td>\n",
       "      <td>41527.000000</td>\n",
       "      <td>41527.000000</td>\n",
       "    </tr>\n",
       "  </tbody>\n",
       "</table>\n",
       "</div>"
      ],
      "text/plain": [
       "        n_document    n_sentence       n_token        n_MISC         n_ALL\n",
       "count  1235.000000   1235.000000  1.235000e+03   1235.000000   1235.000000\n",
       "mean     14.284211   1378.661538  3.822384e+04   1643.449393   1643.449393\n",
       "std      23.154356   2316.398490  6.437524e+04   2836.905542   2836.905542\n",
       "min       1.000000     84.000000  1.133000e+03    101.000000    101.000000\n",
       "25%       5.000000    425.500000  1.064900e+04    482.000000    482.000000\n",
       "50%       8.000000    744.000000  1.945200e+04    867.000000    867.000000\n",
       "75%      15.000000   1449.000000  4.043500e+04   1694.000000   1694.000000\n",
       "max     374.000000  37373.000000  1.029345e+06  41527.000000  41527.000000"
      ]
     },
     "execution_count": 20,
     "metadata": {},
     "output_type": "execute_result"
    }
   ],
   "source": [
    "df_en.describe()"
   ]
  },
  {
   "cell_type": "markdown",
   "metadata": {},
   "source": [
    "## ZERO document entity"
   ]
  },
  {
   "cell_type": "code",
   "execution_count": 30,
   "metadata": {
    "scrolled": true
   },
   "outputs": [
    {
     "data": {
      "text/html": [
       "<div>\n",
       "<style>\n",
       "    .dataframe thead tr:only-child th {\n",
       "        text-align: right;\n",
       "    }\n",
       "\n",
       "    .dataframe thead th {\n",
       "        text-align: left;\n",
       "    }\n",
       "\n",
       "    .dataframe tbody tr th {\n",
       "        vertical-align: top;\n",
       "    }\n",
       "</style>\n",
       "<table border=\"1\" class=\"dataframe\">\n",
       "  <thead>\n",
       "    <tr style=\"text-align: right;\">\n",
       "      <th></th>\n",
       "      <th>zero_en_doc</th>\n",
       "      <th>zero_zh_doc</th>\n",
       "    </tr>\n",
       "  </thead>\n",
       "  <tbody>\n",
       "    <tr>\n",
       "      <th>0</th>\n",
       "      <td>0</td>\n",
       "      <td>924</td>\n",
       "    </tr>\n",
       "  </tbody>\n",
       "</table>\n",
       "</div>"
      ],
      "text/plain": [
       "   zero_en_doc  zero_zh_doc\n",
       "0            0          924"
      ]
     },
     "execution_count": 30,
     "metadata": {},
     "output_type": "execute_result"
    }
   ],
   "source": [
    "zero_zh = [df_zh[df_zh['n_document'] ==0].count()[0]]\n",
    "zero_en = [df_en[df_en['n_document'] ==0].count()[0]]\n",
    "df1 = pd.DataFrame({'zero_zh_doc':zero_zh, 'zero_en_doc':zero_en})\n",
    "df1"
   ]
  },
  {
   "cell_type": "markdown",
   "metadata": {},
   "source": [
    "## DATA distribution"
   ]
  },
  {
   "cell_type": "markdown",
   "metadata": {},
   "source": [
    "### ZH data"
   ]
  },
  {
   "cell_type": "code",
   "execution_count": 36,
   "metadata": {},
   "outputs": [
    {
     "data": {
      "image/png": "[encoded data removed]",
      "text/plain": [
       "<matplotlib.figure.Figure at 0x117a26358>"
      ]
     },
     "metadata": {},
     "output_type": "display_data"
    }
   ],
   "source": [
    "# the distribution of label in MNIST# the dis \n",
    "plt.figure(figsize=(16,10))\n",
    "\n",
    "plt.subplot(2,1,1)\n",
    "data = df_zh['n_document'].tolist()\n",
    "bins1 = [0,1,2,3,4,5,6,7,8,9, 10, 20, 30, 40, 50]\n",
    "plt.hist(data,align ='mid', bins = 35)\n",
    "plt.title(\"the distribution of document For ZH_data\")\n",
    "plt.xlabel(\"number of document\")\n",
    "plt.ylabel(\"number of entity\")\n",
    "\n",
    "plt.subplot(2,1,2)\n",
    "data = df_zh['n_sentence'].tolist()\n",
    "bins1 = [0,30,60,90, 1000, 2000, 3000, 4000, 5000,6000]\n",
    "plt.hist(data,align ='mid', bins = 60)\n",
    "plt.title(\"the distribution of sentence For ZH_data\")\n",
    "plt.xlabel(\"number of sentence\")\n",
    "plt.ylabel(\"number of entity\")\n",
    "\n",
    "plt.show()"
   ]
  },
  {
   "cell_type": "markdown",
   "metadata": {},
   "source": [
    "### zoom"
   ]
  },
  {
   "cell_type": "code",
   "execution_count": 8,
   "metadata": {},
   "outputs": [
    {
     "data": {
      "image/png": "[encoded data removed]",
      "text/plain": [
       "<matplotlib.figure.Figure at 0x107c8f400>"
      ]
     },
     "metadata": {},
     "output_type": "display_data"
    }
   ],
   "source": [
    "# the distribution of label in MNIST# the dis \n",
    "plt.figure(figsize=(16,10))\n",
    "\n",
    "plt.subplot(2,1,1)\n",
    "data = df_zh['n_document'].tolist()\n",
    "zoom_data = [i for i in data if i < 11]\n",
    "plt.hist(zoom_data,align ='mid')\n",
    "plt.title(\"the distribution of document For ZH_data\")\n",
    "plt.xlabel(\"number of document\")\n",
    "plt.ylabel(\"number of entity\")\n",
    "\n",
    "plt.subplot(2,1,2)\n",
    "data = df_zh['n_sentence'].tolist()\n",
    "zoom_data = [i for i in data if i < 300]\n",
    "plt.hist(zoom_data,align ='mid')\n",
    "plt.title(\"the distribution of sentence For ZH_data\")\n",
    "plt.xlabel(\"number of sentence\")\n",
    "plt.ylabel(\"number of entity\")\n",
    "\n",
    "plt.show()"
   ]
  },
  {
   "cell_type": "markdown",
   "metadata": {},
   "source": [
    "### EN data"
   ]
  },
  {
   "cell_type": "code",
   "execution_count": 12,
   "metadata": {},
   "outputs": [
    {
     "data": {
      "image/png": "[encoded data removed]",
      "text/plain": [
       "<matplotlib.figure.Figure at 0x108976828>"
      ]
     },
     "metadata": {},
     "output_type": "display_data"
    }
   ],
   "source": [
    "# the distribution of label in MNIST# the dis \n",
    "plt.figure(figsize=(16,10))\n",
    "\n",
    "plt.subplot(2,1,1)\n",
    "data = df_en['n_document'].tolist()\n",
    "bins1 = [0,1,2,3,4,5,6,7,8,9, 10, 20, 30, 40, 50]\n",
    "plt.hist(data,align ='mid', bins = 36)\n",
    "plt.title(\"the distribution of document For EN_data\")\n",
    "plt.xlabel(\"number of document\")\n",
    "plt.ylabel(\"number of entity\")\n",
    "\n",
    "plt.subplot(2,1,2)\n",
    "data = df_en['n_sentence'].tolist()\n",
    "bins1 = [0,30,60,90, 1000, 2000, 3000, 4000, 5000,6000]\n",
    "plt.hist(data,align ='mid', bins = 35)\n",
    "plt.title(\"the distribution of sentence For EN_data\")\n",
    "plt.xlabel(\"number of sentence\")\n",
    "plt.ylabel(\"number of entity\")\n",
    "\n",
    "plt.show()"
   ]
  },
  {
   "cell_type": "code",
   "execution_count": 13,
   "metadata": {},
   "outputs": [
    {
     "data": {
      "image/png": "[encoded data removed]",
      "text/plain": [
       "<matplotlib.figure.Figure at 0x108976c50>"
      ]
     },
     "metadata": {},
     "output_type": "display_data"
    }
   ],
   "source": [
    "### zoom\n",
    "# the distribution of label in MNIST# the dis \n",
    "plt.figure(figsize=(16,10))\n",
    "\n",
    "plt.subplot(2,1,1)\n",
    "data = df_en['n_document'].tolist()\n",
    "zoom_data = [i for i in data if i < 50]\n",
    "plt.hist(zoom_data,align ='mid')\n",
    "plt.title(\"the distribution of document For EN_data\")\n",
    "plt.xlabel(\"number of document\")\n",
    "plt.ylabel(\"number of entity\")\n",
    "\n",
    "plt.subplot(2,1,2)\n",
    "data = df_en['n_sentence'].tolist()\n",
    "zoom_data = [i for i in data if i < 3000]\n",
    "plt.hist(zoom_data,align ='mid')\n",
    "plt.title(\"the distribution of sentence For EN_data\")\n",
    "plt.xlabel(\"number of sentence\")\n",
    "plt.ylabel(\"number of entity\")\n",
    "\n",
    "plt.show()"
   ]
  },
  {
   "cell_type": "markdown",
   "metadata": {},
   "source": [
    "### ZOOM summary\n",
    " * en zoom into number of document region [0~2000]\n",
    " * zh zoom into number of document region [0~100]   "
   ]
  },
  {
   "cell_type": "code",
   "execution_count": 14,
   "metadata": {},
   "outputs": [
    {
     "data": {
      "image/png": "[encoded data removed]",
      "text/plain": [
       "<matplotlib.figure.Figure at 0x108d23cf8>"
      ]
     },
     "metadata": {},
     "output_type": "display_data"
    }
   ],
   "source": [
    "data_en_zoom = df_en[df_en['n_sentence']<2000]['n_sentence'].tolist()\n",
    "data_zh_zoom = df_zh[df_zh['n_sentence']<100]['n_sentence'].tolist()\n",
    "\n",
    "plt.figure(figsize=(16,10))\n",
    "plt.subplot(2,1,1)\n",
    "# bins1 = [0,1,2,3,4,5,6,7,8,9, 10, 20, 30, 40, 50]\n",
    "plt.hist(data_en_zoom,align ='mid', bins = 100)\n",
    "plt.title(\"the distribution of document For EN_data\")\n",
    "plt.xlabel(\"number of document\")\n",
    "plt.ylabel(\"number of entity\")\n",
    "\n",
    "plt.subplot(2,1,2)\n",
    "# bins1 = [0,30,60,90, 1000, 2000, 3000, 4000, 5000,6000]\n",
    "plt.hist(data_zh_zoom,align ='mid', bins = 100)\n",
    "plt.title(\"the distribution of sentence For ZH_data\")\n",
    "plt.xlabel(\"number of sentence\")\n",
    "plt.ylabel(\"number of entity\")\n",
    "\n",
    "plt.show()"
   ]
  },
  {
   "cell_type": "code",
   "execution_count": 52,
   "metadata": {},
   "outputs": [
    {
     "name": "stdout",
     "output_type": "stream",
     "text": [
      "document distribution:\n"
     ]
    },
    {
     "data": {
      "text/html": [
       "<div>\n",
       "<style>\n",
       "    .dataframe thead tr:only-child th {\n",
       "        text-align: right;\n",
       "    }\n",
       "\n",
       "    .dataframe thead th {\n",
       "        text-align: left;\n",
       "    }\n",
       "\n",
       "    .dataframe tbody tr th {\n",
       "        vertical-align: top;\n",
       "    }\n",
       "</style>\n",
       "<table border=\"1\" class=\"dataframe\">\n",
       "  <thead>\n",
       "    <tr style=\"text-align: right;\">\n",
       "      <th></th>\n",
       "      <th>EN_doc</th>\n",
       "      <th>ZH_doc</th>\n",
       "    </tr>\n",
       "  </thead>\n",
       "  <tbody>\n",
       "    <tr>\n",
       "      <th>[0, 20)</th>\n",
       "      <td>1018</td>\n",
       "      <td>4156</td>\n",
       "    </tr>\n",
       "    <tr>\n",
       "      <th>[20, 40)</th>\n",
       "      <td>144</td>\n",
       "      <td>9</td>\n",
       "    </tr>\n",
       "    <tr>\n",
       "      <th>[40, 60)</th>\n",
       "      <td>33</td>\n",
       "      <td>1</td>\n",
       "    </tr>\n",
       "    <tr>\n",
       "      <th>[60, 80)</th>\n",
       "      <td>16</td>\n",
       "      <td>2</td>\n",
       "    </tr>\n",
       "    <tr>\n",
       "      <th>[80, 100)</th>\n",
       "      <td>9</td>\n",
       "      <td>0</td>\n",
       "    </tr>\n",
       "    <tr>\n",
       "      <th>[100, 120)</th>\n",
       "      <td>7</td>\n",
       "      <td>0</td>\n",
       "    </tr>\n",
       "    <tr>\n",
       "      <th>[120, 140)</th>\n",
       "      <td>1</td>\n",
       "      <td>0</td>\n",
       "    </tr>\n",
       "    <tr>\n",
       "      <th>[140, 160)</th>\n",
       "      <td>2</td>\n",
       "      <td>0</td>\n",
       "    </tr>\n",
       "    <tr>\n",
       "      <th>[160, 180)</th>\n",
       "      <td>1</td>\n",
       "      <td>0</td>\n",
       "    </tr>\n",
       "    <tr>\n",
       "      <th>[180, 200)</th>\n",
       "      <td>0</td>\n",
       "      <td>0</td>\n",
       "    </tr>\n",
       "    <tr>\n",
       "      <th>[200, 220)</th>\n",
       "      <td>0</td>\n",
       "      <td>0</td>\n",
       "    </tr>\n",
       "    <tr>\n",
       "      <th>[220, 240)</th>\n",
       "      <td>1</td>\n",
       "      <td>0</td>\n",
       "    </tr>\n",
       "    <tr>\n",
       "      <th>[240, 260)</th>\n",
       "      <td>1</td>\n",
       "      <td>0</td>\n",
       "    </tr>\n",
       "    <tr>\n",
       "      <th>[260, 280)</th>\n",
       "      <td>0</td>\n",
       "      <td>0</td>\n",
       "    </tr>\n",
       "    <tr>\n",
       "      <th>[280, 300)</th>\n",
       "      <td>1</td>\n",
       "      <td>0</td>\n",
       "    </tr>\n",
       "    <tr>\n",
       "      <th>[300, 320)</th>\n",
       "      <td>0</td>\n",
       "      <td>0</td>\n",
       "    </tr>\n",
       "    <tr>\n",
       "      <th>[320, 340)</th>\n",
       "      <td>0</td>\n",
       "      <td>0</td>\n",
       "    </tr>\n",
       "    <tr>\n",
       "      <th>[340, 360)</th>\n",
       "      <td>0</td>\n",
       "      <td>0</td>\n",
       "    </tr>\n",
       "    <tr>\n",
       "      <th>[360, 380)</th>\n",
       "      <td>1</td>\n",
       "      <td>0</td>\n",
       "    </tr>\n",
       "  </tbody>\n",
       "</table>\n",
       "</div>"
      ],
      "text/plain": [
       "            EN_doc  ZH_doc\n",
       "[0, 20)       1018    4156\n",
       "[20, 40)       144       9\n",
       "[40, 60)        33       1\n",
       "[60, 80)        16       2\n",
       "[80, 100)        9       0\n",
       "[100, 120)       7       0\n",
       "[120, 140)       1       0\n",
       "[140, 160)       2       0\n",
       "[160, 180)       1       0\n",
       "[180, 200)       0       0\n",
       "[200, 220)       0       0\n",
       "[220, 240)       1       0\n",
       "[240, 260)       1       0\n",
       "[260, 280)       0       0\n",
       "[280, 300)       1       0\n",
       "[300, 320)       0       0\n",
       "[320, 340)       0       0\n",
       "[340, 360)       0       0\n",
       "[360, 380)       1       0"
      ]
     },
     "execution_count": 52,
     "metadata": {},
     "output_type": "execute_result"
    }
   ],
   "source": [
    "#ZH_document distribution\n",
    "step = 20\n",
    "bin_range = np.arange(0, 400, step)\n",
    "out1, bins1  = pd.cut(df_zh['n_document'].tolist(), bins=bin_range, include_lowest=True, right=False, retbins=True)\n",
    "out2, bins2  = pd.cut(df_en['n_document'].tolist(), bins=bin_range, include_lowest=True, right=False, retbins=True)\n",
    "print('document distribution:')\n",
    "df2 = pd.DataFrame({'EN_doc': out2.value_counts(), 'ZH_doc': out1.value_counts()})\n",
    "df2"
   ]
  },
  {
   "cell_type": "code",
   "execution_count": 55,
   "metadata": {},
   "outputs": [
    {
     "name": "stdout",
     "output_type": "stream",
     "text": [
      "sentence distribution:\n"
     ]
    },
    {
     "data": {
      "text/html": [
       "<div>\n",
       "<style>\n",
       "    .dataframe thead tr:only-child th {\n",
       "        text-align: right;\n",
       "    }\n",
       "\n",
       "    .dataframe thead th {\n",
       "        text-align: left;\n",
       "    }\n",
       "\n",
       "    .dataframe tbody tr th {\n",
       "        vertical-align: top;\n",
       "    }\n",
       "</style>\n",
       "<table border=\"1\" class=\"dataframe\">\n",
       "  <thead>\n",
       "    <tr style=\"text-align: right;\">\n",
       "      <th></th>\n",
       "      <th>EN_sen</th>\n",
       "      <th>ZH_sen</th>\n",
       "    </tr>\n",
       "  </thead>\n",
       "  <tbody>\n",
       "    <tr>\n",
       "      <th>[0, 1000)</th>\n",
       "      <td>760</td>\n",
       "      <td>4146</td>\n",
       "    </tr>\n",
       "    <tr>\n",
       "      <th>[1000, 2000)</th>\n",
       "      <td>275</td>\n",
       "      <td>10</td>\n",
       "    </tr>\n",
       "    <tr>\n",
       "      <th>[2000, 3000)</th>\n",
       "      <td>94</td>\n",
       "      <td>6</td>\n",
       "    </tr>\n",
       "    <tr>\n",
       "      <th>[3000, 4000)</th>\n",
       "      <td>38</td>\n",
       "      <td>3</td>\n",
       "    </tr>\n",
       "    <tr>\n",
       "      <th>[4000, 5000)</th>\n",
       "      <td>24</td>\n",
       "      <td>1</td>\n",
       "    </tr>\n",
       "    <tr>\n",
       "      <th>[5000, 6000)</th>\n",
       "      <td>4</td>\n",
       "      <td>0</td>\n",
       "    </tr>\n",
       "    <tr>\n",
       "      <th>[6000, 7000)</th>\n",
       "      <td>10</td>\n",
       "      <td>2</td>\n",
       "    </tr>\n",
       "    <tr>\n",
       "      <th>[7000, 8000)</th>\n",
       "      <td>6</td>\n",
       "      <td>0</td>\n",
       "    </tr>\n",
       "    <tr>\n",
       "      <th>[8000, 9000)</th>\n",
       "      <td>6</td>\n",
       "      <td>0</td>\n",
       "    </tr>\n",
       "    <tr>\n",
       "      <th>[9000, 10000)</th>\n",
       "      <td>3</td>\n",
       "      <td>0</td>\n",
       "    </tr>\n",
       "    <tr>\n",
       "      <th>[10000, 11000)</th>\n",
       "      <td>6</td>\n",
       "      <td>0</td>\n",
       "    </tr>\n",
       "    <tr>\n",
       "      <th>[11000, 12000)</th>\n",
       "      <td>1</td>\n",
       "      <td>0</td>\n",
       "    </tr>\n",
       "    <tr>\n",
       "      <th>[12000, 13000)</th>\n",
       "      <td>1</td>\n",
       "      <td>0</td>\n",
       "    </tr>\n",
       "    <tr>\n",
       "      <th>[13000, 14000)</th>\n",
       "      <td>0</td>\n",
       "      <td>0</td>\n",
       "    </tr>\n",
       "    <tr>\n",
       "      <th>[14000, 15000)</th>\n",
       "      <td>1</td>\n",
       "      <td>0</td>\n",
       "    </tr>\n",
       "    <tr>\n",
       "      <th>[15000, 16000)</th>\n",
       "      <td>1</td>\n",
       "      <td>0</td>\n",
       "    </tr>\n",
       "    <tr>\n",
       "      <th>[16000, 17000)</th>\n",
       "      <td>0</td>\n",
       "      <td>0</td>\n",
       "    </tr>\n",
       "    <tr>\n",
       "      <th>[17000, 18000)</th>\n",
       "      <td>1</td>\n",
       "      <td>0</td>\n",
       "    </tr>\n",
       "    <tr>\n",
       "      <th>[18000, 19000)</th>\n",
       "      <td>0</td>\n",
       "      <td>0</td>\n",
       "    </tr>\n",
       "    <tr>\n",
       "      <th>[19000, 20000)</th>\n",
       "      <td>0</td>\n",
       "      <td>0</td>\n",
       "    </tr>\n",
       "    <tr>\n",
       "      <th>[20000, 21000)</th>\n",
       "      <td>0</td>\n",
       "      <td>0</td>\n",
       "    </tr>\n",
       "    <tr>\n",
       "      <th>[21000, 22000)</th>\n",
       "      <td>0</td>\n",
       "      <td>0</td>\n",
       "    </tr>\n",
       "    <tr>\n",
       "      <th>[22000, 23000)</th>\n",
       "      <td>0</td>\n",
       "      <td>0</td>\n",
       "    </tr>\n",
       "    <tr>\n",
       "      <th>[23000, 24000)</th>\n",
       "      <td>1</td>\n",
       "      <td>0</td>\n",
       "    </tr>\n",
       "    <tr>\n",
       "      <th>[24000, 25000)</th>\n",
       "      <td>1</td>\n",
       "      <td>0</td>\n",
       "    </tr>\n",
       "    <tr>\n",
       "      <th>[25000, 26000)</th>\n",
       "      <td>0</td>\n",
       "      <td>0</td>\n",
       "    </tr>\n",
       "    <tr>\n",
       "      <th>[26000, 27000)</th>\n",
       "      <td>0</td>\n",
       "      <td>0</td>\n",
       "    </tr>\n",
       "    <tr>\n",
       "      <th>[27000, 28000)</th>\n",
       "      <td>0</td>\n",
       "      <td>0</td>\n",
       "    </tr>\n",
       "    <tr>\n",
       "      <th>[28000, 29000)</th>\n",
       "      <td>1</td>\n",
       "      <td>0</td>\n",
       "    </tr>\n",
       "    <tr>\n",
       "      <th>[29000, 30000)</th>\n",
       "      <td>0</td>\n",
       "      <td>0</td>\n",
       "    </tr>\n",
       "    <tr>\n",
       "      <th>[30000, 31000)</th>\n",
       "      <td>0</td>\n",
       "      <td>0</td>\n",
       "    </tr>\n",
       "    <tr>\n",
       "      <th>[31000, 32000)</th>\n",
       "      <td>0</td>\n",
       "      <td>0</td>\n",
       "    </tr>\n",
       "    <tr>\n",
       "      <th>[32000, 33000)</th>\n",
       "      <td>0</td>\n",
       "      <td>0</td>\n",
       "    </tr>\n",
       "    <tr>\n",
       "      <th>[33000, 34000)</th>\n",
       "      <td>0</td>\n",
       "      <td>0</td>\n",
       "    </tr>\n",
       "    <tr>\n",
       "      <th>[34000, 35000)</th>\n",
       "      <td>0</td>\n",
       "      <td>0</td>\n",
       "    </tr>\n",
       "    <tr>\n",
       "      <th>[35000, 36000)</th>\n",
       "      <td>0</td>\n",
       "      <td>0</td>\n",
       "    </tr>\n",
       "    <tr>\n",
       "      <th>[36000, 37000)</th>\n",
       "      <td>0</td>\n",
       "      <td>0</td>\n",
       "    </tr>\n",
       "    <tr>\n",
       "      <th>[37000, 38000)</th>\n",
       "      <td>1</td>\n",
       "      <td>0</td>\n",
       "    </tr>\n",
       "  </tbody>\n",
       "</table>\n",
       "</div>"
      ],
      "text/plain": [
       "                EN_sen  ZH_sen\n",
       "[0, 1000)          760    4146\n",
       "[1000, 2000)       275      10\n",
       "[2000, 3000)        94       6\n",
       "[3000, 4000)        38       3\n",
       "[4000, 5000)        24       1\n",
       "[5000, 6000)         4       0\n",
       "[6000, 7000)        10       2\n",
       "[7000, 8000)         6       0\n",
       "[8000, 9000)         6       0\n",
       "[9000, 10000)        3       0\n",
       "[10000, 11000)       6       0\n",
       "[11000, 12000)       1       0\n",
       "[12000, 13000)       1       0\n",
       "[13000, 14000)       0       0\n",
       "[14000, 15000)       1       0\n",
       "[15000, 16000)       1       0\n",
       "[16000, 17000)       0       0\n",
       "[17000, 18000)       1       0\n",
       "[18000, 19000)       0       0\n",
       "[19000, 20000)       0       0\n",
       "[20000, 21000)       0       0\n",
       "[21000, 22000)       0       0\n",
       "[22000, 23000)       0       0\n",
       "[23000, 24000)       1       0\n",
       "[24000, 25000)       1       0\n",
       "[25000, 26000)       0       0\n",
       "[26000, 27000)       0       0\n",
       "[27000, 28000)       0       0\n",
       "[28000, 29000)       1       0\n",
       "[29000, 30000)       0       0\n",
       "[30000, 31000)       0       0\n",
       "[31000, 32000)       0       0\n",
       "[32000, 33000)       0       0\n",
       "[33000, 34000)       0       0\n",
       "[34000, 35000)       0       0\n",
       "[35000, 36000)       0       0\n",
       "[36000, 37000)       0       0\n",
       "[37000, 38000)       1       0"
      ]
     },
     "execution_count": 55,
     "metadata": {},
     "output_type": "execute_result"
    }
   ],
   "source": [
    "#ZH_document distribution\n",
    "step = 1000\n",
    "bin_range = np.arange(0, 39000, step)\n",
    "out1, bins1  = pd.cut(df_zh['n_sentence'].tolist(), bins=bin_range, include_lowest=True, right=False, retbins=True)\n",
    "out2, bins2  = pd.cut(df_en['n_sentence'].tolist(), bins=bin_range, include_lowest=True, right=False, retbins=True)\n",
    "print('sentence distribution:')\n",
    "df2 = pd.DataFrame({'EN_sen': out2.value_counts(), 'ZH_sen': out1.value_counts()})\n",
    "df2"
   ]
  },
  {
   "cell_type": "code",
   "execution_count": 17,
   "metadata": {
    "scrolled": false
   },
   "outputs": [
    {
     "name": "stdout",
     "output_type": "stream",
     "text": [
      "ZH_sentence distribution:\n"
     ]
    },
    {
     "data": {
      "text/html": [
       "<div>\n",
       "<style>\n",
       "    .dataframe thead tr:only-child th {\n",
       "        text-align: right;\n",
       "    }\n",
       "\n",
       "    .dataframe thead th {\n",
       "        text-align: left;\n",
       "    }\n",
       "\n",
       "    .dataframe tbody tr th {\n",
       "        vertical-align: top;\n",
       "    }\n",
       "</style>\n",
       "<table border=\"1\" class=\"dataframe\">\n",
       "  <thead>\n",
       "    <tr style=\"text-align: right;\">\n",
       "      <th></th>\n",
       "      <th>0</th>\n",
       "    </tr>\n",
       "  </thead>\n",
       "  <tbody>\n",
       "    <tr>\n",
       "      <th>[0, 500)</th>\n",
       "      <td>4105</td>\n",
       "    </tr>\n",
       "    <tr>\n",
       "      <th>[500, 1000)</th>\n",
       "      <td>41</td>\n",
       "    </tr>\n",
       "    <tr>\n",
       "      <th>[1000, 1500)</th>\n",
       "      <td>8</td>\n",
       "    </tr>\n",
       "    <tr>\n",
       "      <th>[1500, 2000)</th>\n",
       "      <td>2</td>\n",
       "    </tr>\n",
       "    <tr>\n",
       "      <th>[2000, 2500)</th>\n",
       "      <td>5</td>\n",
       "    </tr>\n",
       "    <tr>\n",
       "      <th>[2500, 3000)</th>\n",
       "      <td>1</td>\n",
       "    </tr>\n",
       "    <tr>\n",
       "      <th>[3000, 3500)</th>\n",
       "      <td>2</td>\n",
       "    </tr>\n",
       "    <tr>\n",
       "      <th>[3500, 4000)</th>\n",
       "      <td>1</td>\n",
       "    </tr>\n",
       "    <tr>\n",
       "      <th>[4000, 4500)</th>\n",
       "      <td>0</td>\n",
       "    </tr>\n",
       "    <tr>\n",
       "      <th>[4500, 5000)</th>\n",
       "      <td>1</td>\n",
       "    </tr>\n",
       "    <tr>\n",
       "      <th>[5000, 5500)</th>\n",
       "      <td>0</td>\n",
       "    </tr>\n",
       "    <tr>\n",
       "      <th>[5500, 6000)</th>\n",
       "      <td>0</td>\n",
       "    </tr>\n",
       "    <tr>\n",
       "      <th>[6000, 6500)</th>\n",
       "      <td>1</td>\n",
       "    </tr>\n",
       "  </tbody>\n",
       "</table>\n",
       "</div>"
      ],
      "text/plain": [
       "                 0\n",
       "[0, 500)      4105\n",
       "[500, 1000)     41\n",
       "[1000, 1500)     8\n",
       "[1500, 2000)     2\n",
       "[2000, 2500)     5\n",
       "[2500, 3000)     1\n",
       "[3000, 3500)     2\n",
       "[3500, 4000)     1\n",
       "[4000, 4500)     0\n",
       "[4500, 5000)     1\n",
       "[5000, 5500)     0\n",
       "[5500, 6000)     0\n",
       "[6000, 6500)     1"
      ]
     },
     "execution_count": 17,
     "metadata": {},
     "output_type": "execute_result"
    }
   ],
   "source": [
    "#ZH_document sentence\n",
    "step = 500\n",
    "bin_range = np.arange(0, 7000, step)\n",
    "out, bins  = pd.cut(df_zh['n_sentence'].tolist(), bins=bin_range, include_lowest=True, right=False, retbins=True)\n",
    "print('ZH_sentence distribution:')\n",
    "out.value_counts().to_frame()"
   ]
  },
  {
   "cell_type": "markdown",
   "metadata": {},
   "source": [
    "## SAME Entity types in both language"
   ]
  },
  {
   "cell_type": "code",
   "execution_count": 56,
   "metadata": {},
   "outputs": [
    {
     "data": {
      "text/plain": [
       "1235"
      ]
     },
     "execution_count": 56,
     "metadata": {},
     "output_type": "execute_result"
    }
   ],
   "source": [
    "lt_zh = df_zh['entity_type'].tolist()\n",
    "lt_en = df_en['entity_type'].tolist()\n",
    "len(set(lt_zh) & set(lt_en))"
   ]
  },
  {
   "cell_type": "markdown",
   "metadata": {},
   "source": [
    "### number of document of each entity type sort by entity name in alphabet order"
   ]
  },
  {
   "cell_type": "code",
   "execution_count": 70,
   "metadata": {},
   "outputs": [
    {
     "data": {
      "image/png": "[encoded data removed]",
      "text/plain": [
       "<matplotlib.figure.Figure at 0x118157080>"
      ]
     },
     "metadata": {},
     "output_type": "display_data"
    }
   ],
   "source": [
    "zh_doc = df_zh.sort_values('entity_type')['n_document'].tolist()\n",
    "en_doc = df_en.sort_values('entity_type')['n_document'].tolist()\n",
    "\n",
    "plt.figure(figsize=(16,5))\n",
    "x_zh = list(range(0,len(zh_doc)))\n",
    "x_en = list(range(0,len(en_doc))) \n",
    "            \n",
    "plt.plot(x_zh,zh_doc,label = 'doc_zh', alpha=0.7)\n",
    "plt.plot(x_en,en_doc,label = 'doc_en', alpha=0.7)\n",
    "plt.title(\"document per enetity type in alphabet order\")\n",
    "plt.xlabel(\"A to Z\")\n",
    "plt.ylabel(\"number of document\")\n",
    "plt.grid(linestyle='-', linewidth=2)\n",
    "plt.legend()\n",
    "plt.show()"
   ]
  },
  {
   "cell_type": "markdown",
   "metadata": {},
   "source": [
    "### number of sentence of each entity type sort by entity name in alphabet order"
   ]
  },
  {
   "cell_type": "code",
   "execution_count": 71,
   "metadata": {},
   "outputs": [
    {
     "data": {
      "image/png": "[encoded data removed]",
      "text/plain": [
       "<matplotlib.figure.Figure at 0x1176abd68>"
      ]
     },
     "metadata": {},
     "output_type": "display_data"
    }
   ],
   "source": [
    "zh_doc = df_zh.sort_values('entity_type')['n_sentence'].tolist()\n",
    "en_doc = df_en.sort_values('entity_type')['n_sentence'].tolist()\n",
    "\n",
    "plt.figure(figsize=(16,5))\n",
    "x_zh = list(range(0,len(zh_doc)))\n",
    "x_en = list(range(0,len(en_doc))) \n",
    "            \n",
    "plt.plot(x_zh,zh_doc,label = 'sen_zh', alpha=0.7)\n",
    "plt.plot(x_en,en_doc,label = 'sen_en', alpha=0.7)\n",
    "plt.title(\"sentences per enetity type in alphabet order\")\n",
    "plt.xlabel(\"A to Z\")\n",
    "plt.ylabel(\"number of sentence\")\n",
    "plt.grid(linestyle='-', linewidth=2)\n",
    "plt.legend()\n",
    "plt.show()"
   ]
  },
  {
   "cell_type": "code",
   "execution_count": 8,
   "metadata": {},
   "outputs": [
    {
     "data": {
      "text/plain": [
       "(array([], dtype=int64),)"
      ]
     },
     "execution_count": 8,
     "metadata": {},
     "output_type": "execute_result"
    }
   ],
   "source": [
    "(df_zh[\"n_MISC\"] - df_zh[\"n_ALL\"]).nonzero()"
   ]
  },
  {
   "cell_type": "code",
   "execution_count": 9,
   "metadata": {},
   "outputs": [
    {
     "data": {
      "text/plain": [
       "(array([], dtype=int64),)"
      ]
     },
     "execution_count": 9,
     "metadata": {},
     "output_type": "execute_result"
    }
   ],
   "source": [
    "(df_en[\"n_MISC\"] - df_en[\"n_ALL\"]).nonzero()"
   ]
  },
  {
   "cell_type": "markdown",
   "metadata": {},
   "source": [
    "## question :\n",
    "\n",
    "    * how to interpret the entity type name format : like what is the meansing and relation for the digits <105845013>, <106410904> in Genus105845013,Book106410904. i had check in https://nlp.cs.rpi.edu/kbp/2018/taxonomy/, but there seem not relation or coherent in the entity type that are closing.\n",
    "    \n",
    "    \n",
    "    * i think we need to group the entity name like https://nlp.cs.rpi.edu/kbp/2018/taxonomy/ does, to analyze the confusion between Sibling entity type and if check the accuracy if we just predict its parent-entity type."
   ]
  },
  {
   "cell_type": "code",
   "execution_count": 21,
   "metadata": {},
   "outputs": [
    {
     "data": {
      "text/html": [
       "<div>\n",
       "<style scoped>\n",
       "    .dataframe tbody tr th:only-of-type {\n",
       "        vertical-align: middle;\n",
       "    }\n",
       "\n",
       "    .dataframe tbody tr th {\n",
       "        vertical-align: top;\n",
       "    }\n",
       "\n",
       "    .dataframe thead th {\n",
       "        text-align: right;\n",
       "    }\n",
       "</style>\n",
       "<table border=\"1\" class=\"dataframe\">\n",
       "  <thead>\n",
       "    <tr style=\"text-align: right;\">\n",
       "      <th></th>\n",
       "      <th>entity_type</th>\n",
       "      <th>n_document</th>\n",
       "      <th>n_sentence</th>\n",
       "      <th>n_token</th>\n",
       "      <th>n_MISC</th>\n",
       "      <th>n_ALL</th>\n",
       "    </tr>\n",
       "  </thead>\n",
       "  <tbody>\n",
       "    <tr>\n",
       "      <th>140</th>\n",
       "      <td>AcademicDegree106697331</td>\n",
       "      <td>155</td>\n",
       "      <td>15426</td>\n",
       "      <td>418622</td>\n",
       "      <td>22568</td>\n",
       "      <td>22568</td>\n",
       "    </tr>\n",
       "  </tbody>\n",
       "</table>\n",
       "</div>"
      ],
      "text/plain": [
       "                 entity_type  n_document  n_sentence  n_token  n_MISC  n_ALL\n",
       "140  AcademicDegree106697331         155       15426   418622   22568  22568"
      ]
     },
     "execution_count": 21,
     "metadata": {},
     "output_type": "execute_result"
    }
   ],
   "source": [
    "df_en[df_en['entity_type'] =='AcademicDegree106697331']\n"
   ]
  },
  {
   "cell_type": "code",
   "execution_count": 22,
   "metadata": {},
   "outputs": [
    {
     "data": {
      "text/html": [
       "<div>\n",
       "<style scoped>\n",
       "    .dataframe tbody tr th:only-of-type {\n",
       "        vertical-align: middle;\n",
       "    }\n",
       "\n",
       "    .dataframe tbody tr th {\n",
       "        vertical-align: top;\n",
       "    }\n",
       "\n",
       "    .dataframe thead th {\n",
       "        text-align: right;\n",
       "    }\n",
       "</style>\n",
       "<table border=\"1\" class=\"dataframe\">\n",
       "  <thead>\n",
       "    <tr style=\"text-align: right;\">\n",
       "      <th></th>\n",
       "      <th>entity_type</th>\n",
       "      <th>n_document</th>\n",
       "      <th>n_sentence</th>\n",
       "      <th>n_token</th>\n",
       "      <th>n_MISC</th>\n",
       "      <th>n_ALL</th>\n",
       "    </tr>\n",
       "  </thead>\n",
       "  <tbody>\n",
       "    <tr>\n",
       "      <th>790</th>\n",
       "      <td>Continent109254614</td>\n",
       "      <td>176</td>\n",
       "      <td>17569</td>\n",
       "      <td>515580</td>\n",
       "      <td>24958</td>\n",
       "      <td>24958</td>\n",
       "    </tr>\n",
       "  </tbody>\n",
       "</table>\n",
       "</div>"
      ],
      "text/plain": [
       "            entity_type  n_document  n_sentence  n_token  n_MISC  n_ALL\n",
       "790  Continent109254614         176       17569   515580   24958  24958"
      ]
     },
     "execution_count": 22,
     "metadata": {},
     "output_type": "execute_result"
    }
   ],
   "source": [
    "df_en[df_en['n_document'] ==176]"
   ]
  },
  {
   "cell_type": "code",
   "execution_count": 5,
   "metadata": {},
   "outputs": [
    {
     "name": "stderr",
     "output_type": "stream",
     "text": [
      "/Users/liangjianzhong/anaconda3/lib/python3.6/site-packages/ipykernel_launcher.py:2: FutureWarning: from_csv is deprecated. Please use read_csv(...) instead. Note that some of the default arguments are different, so please refer to the documentation for from_csv when changing your function calls\n",
      "  \n"
     ]
    }
   ],
   "source": [
    "path = '/Users/liangjianzhong/Desktop/internship/EDL-2018/result/'\n",
    "df_done = pd.DataFrame.from_csv(path + \"RPI_2018_statistic_all_1235_data.csv\")"
   ]
  },
  {
   "cell_type": "code",
   "execution_count": 6,
   "metadata": {},
   "outputs": [
    {
     "data": {
      "text/plain": [
       "entity_type    1235\n",
       "n_document     1235\n",
       "n_sentence     1235\n",
       "n_token        1235\n",
       "n_entity       1235\n",
       "F1_mean        1235\n",
       "F1_std         1235\n",
       "FN_mean        1235\n",
       "FP_mean        1235\n",
       "TP_mean        1235\n",
       "P_mean         1235\n",
       "R_mean         1235\n",
       "dtype: int64"
      ]
     },
     "execution_count": 6,
     "metadata": {},
     "output_type": "execute_result"
    }
   ],
   "source": [
    "df_done.count()"
   ]
  },
  {
   "cell_type": "code",
   "execution_count": 7,
   "metadata": {},
   "outputs": [
    {
     "data": {
      "text/html": [
       "<div>\n",
       "<style scoped>\n",
       "    .dataframe tbody tr th:only-of-type {\n",
       "        vertical-align: middle;\n",
       "    }\n",
       "\n",
       "    .dataframe tbody tr th {\n",
       "        vertical-align: top;\n",
       "    }\n",
       "\n",
       "    .dataframe thead th {\n",
       "        text-align: right;\n",
       "    }\n",
       "</style>\n",
       "<table border=\"1\" class=\"dataframe\">\n",
       "  <thead>\n",
       "    <tr style=\"text-align: right;\">\n",
       "      <th></th>\n",
       "      <th>n_sentence</th>\n",
       "      <th>F1_mean</th>\n",
       "      <th>F1_std</th>\n",
       "    </tr>\n",
       "  </thead>\n",
       "  <tbody>\n",
       "    <tr>\n",
       "      <th>count</th>\n",
       "      <td>1235.000000</td>\n",
       "      <td>1235.000000</td>\n",
       "      <td>1235.000000</td>\n",
       "    </tr>\n",
       "    <tr>\n",
       "      <th>mean</th>\n",
       "      <td>1378.661538</td>\n",
       "      <td>0.641540</td>\n",
       "      <td>0.101428</td>\n",
       "    </tr>\n",
       "    <tr>\n",
       "      <th>std</th>\n",
       "      <td>2316.398490</td>\n",
       "      <td>0.153952</td>\n",
       "      <td>0.061848</td>\n",
       "    </tr>\n",
       "    <tr>\n",
       "      <th>min</th>\n",
       "      <td>84.000000</td>\n",
       "      <td>0.117000</td>\n",
       "      <td>0.005424</td>\n",
       "    </tr>\n",
       "    <tr>\n",
       "      <th>25%</th>\n",
       "      <td>425.500000</td>\n",
       "      <td>0.545740</td>\n",
       "      <td>0.056162</td>\n",
       "    </tr>\n",
       "    <tr>\n",
       "      <th>50%</th>\n",
       "      <td>744.000000</td>\n",
       "      <td>0.648980</td>\n",
       "      <td>0.087798</td>\n",
       "    </tr>\n",
       "    <tr>\n",
       "      <th>75%</th>\n",
       "      <td>1449.000000</td>\n",
       "      <td>0.753600</td>\n",
       "      <td>0.135004</td>\n",
       "    </tr>\n",
       "    <tr>\n",
       "      <th>max</th>\n",
       "      <td>37373.000000</td>\n",
       "      <td>0.994500</td>\n",
       "      <td>0.404296</td>\n",
       "    </tr>\n",
       "  </tbody>\n",
       "</table>\n",
       "</div>"
      ],
      "text/plain": [
       "         n_sentence      F1_mean       F1_std\n",
       "count   1235.000000  1235.000000  1235.000000\n",
       "mean    1378.661538     0.641540     0.101428\n",
       "std     2316.398490     0.153952     0.061848\n",
       "min       84.000000     0.117000     0.005424\n",
       "25%      425.500000     0.545740     0.056162\n",
       "50%      744.000000     0.648980     0.087798\n",
       "75%     1449.000000     0.753600     0.135004\n",
       "max    37373.000000     0.994500     0.404296"
      ]
     },
     "execution_count": 7,
     "metadata": {},
     "output_type": "execute_result"
    }
   ],
   "source": [
    "df_done.describe()[['n_sentence','F1_mean','F1_std']]"
   ]
  },
  {
   "cell_type": "code",
   "execution_count": 10,
   "metadata": {},
   "outputs": [
    {
     "data": {
      "text/html": [
       "<div>\n",
       "<style scoped>\n",
       "    .dataframe tbody tr th:only-of-type {\n",
       "        vertical-align: middle;\n",
       "    }\n",
       "\n",
       "    .dataframe tbody tr th {\n",
       "        vertical-align: top;\n",
       "    }\n",
       "\n",
       "    .dataframe thead th {\n",
       "        text-align: right;\n",
       "    }\n",
       "</style>\n",
       "<table border=\"1\" class=\"dataframe\">\n",
       "  <thead>\n",
       "    <tr style=\"text-align: right;\">\n",
       "      <th></th>\n",
       "      <th>entity_type</th>\n",
       "      <th>n_sentence</th>\n",
       "      <th>F1_mean</th>\n",
       "      <th>F1_std</th>\n",
       "    </tr>\n",
       "  </thead>\n",
       "  <tbody>\n",
       "    <tr>\n",
       "      <th>834</th>\n",
       "      <td>StateCapital108695539</td>\n",
       "      <td>37373</td>\n",
       "      <td>0.92242</td>\n",
       "      <td>0.027268</td>\n",
       "    </tr>\n",
       "    <tr>\n",
       "      <th>1034</th>\n",
       "      <td>NationalCapital108691669</td>\n",
       "      <td>28838</td>\n",
       "      <td>0.87278</td>\n",
       "      <td>0.037073</td>\n",
       "    </tr>\n",
       "    <tr>\n",
       "      <th>1138</th>\n",
       "      <td>Prefecture108626947</td>\n",
       "      <td>23468</td>\n",
       "      <td>0.90970</td>\n",
       "      <td>0.025860</td>\n",
       "    </tr>\n",
       "  </tbody>\n",
       "</table>\n",
       "</div>"
      ],
      "text/plain": [
       "                   entity_type  n_sentence  F1_mean    F1_std\n",
       "834      StateCapital108695539       37373  0.92242  0.027268\n",
       "1034  NationalCapital108691669       28838  0.87278  0.037073\n",
       "1138       Prefecture108626947       23468  0.90970  0.025860"
      ]
     },
     "execution_count": 10,
     "metadata": {},
     "output_type": "execute_result"
    }
   ],
   "source": [
    "last_3_entities = ['NationalCapital108691669','Prefecture108626947','StateCapital108695539']\n",
    "df_done[df_done['entity_type'].isin(last_3_entities)][['entity_type','n_sentence','F1_mean','F1_std']]"
   ]
  },
  {
   "cell_type": "code",
   "execution_count": 18,
   "metadata": {
    "collapsed": true
   },
   "outputs": [],
   "source": [
    "df_sorted = df_done.sort_values('n_sentence')"
   ]
  },
  {
   "cell_type": "code",
   "execution_count": 19,
   "metadata": {},
   "outputs": [
    {
     "data": {
      "text/html": [
       "<div>\n",
       "<style scoped>\n",
       "    .dataframe tbody tr th:only-of-type {\n",
       "        vertical-align: middle;\n",
       "    }\n",
       "\n",
       "    .dataframe tbody tr th {\n",
       "        vertical-align: top;\n",
       "    }\n",
       "\n",
       "    .dataframe thead th {\n",
       "        text-align: right;\n",
       "    }\n",
       "</style>\n",
       "<table border=\"1\" class=\"dataframe\">\n",
       "  <thead>\n",
       "    <tr style=\"text-align: right;\">\n",
       "      <th></th>\n",
       "      <th>entity_type</th>\n",
       "      <th>n_document</th>\n",
       "      <th>n_sentence</th>\n",
       "      <th>n_token</th>\n",
       "      <th>n_entity</th>\n",
       "      <th>F1_mean</th>\n",
       "      <th>F1_std</th>\n",
       "      <th>FN_mean</th>\n",
       "      <th>FP_mean</th>\n",
       "      <th>TP_mean</th>\n",
       "      <th>P_mean</th>\n",
       "      <th>R_mean</th>\n",
       "    </tr>\n",
       "  </thead>\n",
       "  <tbody>\n",
       "    <tr>\n",
       "      <th>1019</th>\n",
       "      <td>Belemnite101973723</td>\n",
       "      <td>1</td>\n",
       "      <td>84</td>\n",
       "      <td>1133</td>\n",
       "      <td>118</td>\n",
       "      <td>0.91580</td>\n",
       "      <td>0.080437</td>\n",
       "      <td>0.8</td>\n",
       "      <td>3.2</td>\n",
       "      <td>22.8</td>\n",
       "      <td>0.87976</td>\n",
       "      <td>0.96478</td>\n",
       "    </tr>\n",
       "    <tr>\n",
       "      <th>54</th>\n",
       "      <td>PlanetaryNebula109394797</td>\n",
       "      <td>1</td>\n",
       "      <td>88</td>\n",
       "      <td>1646</td>\n",
       "      <td>101</td>\n",
       "      <td>0.81528</td>\n",
       "      <td>0.047105</td>\n",
       "      <td>4.6</td>\n",
       "      <td>2.6</td>\n",
       "      <td>15.6</td>\n",
       "      <td>0.86286</td>\n",
       "      <td>0.77390</td>\n",
       "    </tr>\n",
       "    <tr>\n",
       "      <th>1117</th>\n",
       "      <td>Threadfin102610980</td>\n",
       "      <td>1</td>\n",
       "      <td>93</td>\n",
       "      <td>1772</td>\n",
       "      <td>102</td>\n",
       "      <td>0.61946</td>\n",
       "      <td>0.135302</td>\n",
       "      <td>9.6</td>\n",
       "      <td>4.2</td>\n",
       "      <td>10.8</td>\n",
       "      <td>0.73292</td>\n",
       "      <td>0.53774</td>\n",
       "    </tr>\n",
       "    <tr>\n",
       "      <th>257</th>\n",
       "      <td>Bumblebee102209624</td>\n",
       "      <td>1</td>\n",
       "      <td>98</td>\n",
       "      <td>2524</td>\n",
       "      <td>158</td>\n",
       "      <td>0.71124</td>\n",
       "      <td>0.076284</td>\n",
       "      <td>12.4</td>\n",
       "      <td>2.6</td>\n",
       "      <td>19.2</td>\n",
       "      <td>0.88270</td>\n",
       "      <td>0.60298</td>\n",
       "    </tr>\n",
       "    <tr>\n",
       "      <th>370</th>\n",
       "      <td>DestroyerEscort103180732</td>\n",
       "      <td>1</td>\n",
       "      <td>100</td>\n",
       "      <td>2099</td>\n",
       "      <td>116</td>\n",
       "      <td>0.80776</td>\n",
       "      <td>0.076364</td>\n",
       "      <td>6.6</td>\n",
       "      <td>1.0</td>\n",
       "      <td>16.6</td>\n",
       "      <td>0.94772</td>\n",
       "      <td>0.71076</td>\n",
       "    </tr>\n",
       "  </tbody>\n",
       "</table>\n",
       "</div>"
      ],
      "text/plain": [
       "                   entity_type  n_document  n_sentence  n_token  n_entity  \\\n",
       "1019        Belemnite101973723           1          84     1133       118   \n",
       "54    PlanetaryNebula109394797           1          88     1646       101   \n",
       "1117        Threadfin102610980           1          93     1772       102   \n",
       "257         Bumblebee102209624           1          98     2524       158   \n",
       "370   DestroyerEscort103180732           1         100     2099       116   \n",
       "\n",
       "      F1_mean    F1_std  FN_mean  FP_mean  TP_mean   P_mean   R_mean  \n",
       "1019  0.91580  0.080437      0.8      3.2     22.8  0.87976  0.96478  \n",
       "54    0.81528  0.047105      4.6      2.6     15.6  0.86286  0.77390  \n",
       "1117  0.61946  0.135302      9.6      4.2     10.8  0.73292  0.53774  \n",
       "257   0.71124  0.076284     12.4      2.6     19.2  0.88270  0.60298  \n",
       "370   0.80776  0.076364      6.6      1.0     16.6  0.94772  0.71076  "
      ]
     },
     "execution_count": 19,
     "metadata": {},
     "output_type": "execute_result"
    }
   ],
   "source": [
    "df_sorted.head(5)"
   ]
  },
  {
   "cell_type": "code",
   "execution_count": 20,
   "metadata": {
    "collapsed": true
   },
   "outputs": [],
   "source": [
    "# sorted by n_document/# n_sentence / # sorted by F1_mean\n",
    "ls_entity = df_sorted['entity_type'].values\n",
    "ls_F1_mean = df_sorted['F1_mean'].values\n",
    "ls_F1_std = df_sorted['F1_std'].values\n",
    "\n",
    "\n",
    "ls_n_sentence = df_sorted['n_sentence'].values\n",
    "ls_n_sentence = ls_n_sentence / max(ls_n_sentence)\n",
    "\n",
    "\n",
    "ls_n_F1_mean = 0.641540 * np.ones(len(ls_F1_mean))\n",
    "\n",
    "\n",
    "y_pos = np.arange(len(ls_F1_mean))\n",
    "\n",
    "fig, ax = plt.subplots(figsize=(150,20)) \n",
    "plt.bar(y_pos, ls_F1_mean, align='center', alpha=0.5, label = 'mean of F1 in 5_folds')\n",
    "plt.plot(y_pos,ls_F1_std, color = 'b', label = 'std of F1 in 5_folds')\n",
    "# plt.plot(y_pos,ls_R, color = 'black', label = 'mean of R  in 5_folds')\n",
    "# plt.plot(y_pos,ls_P, color = 'g', label = 'mean of P  in 5_folds')\n",
    "plt.plot(y_pos,ls_n_sentence, color = 'r', label = 'n_sentence')\n",
    "plt.plot(y_pos,np.ones(len(ls_F1_mean)), color = 'orange', label = 'accuracy = 1')\n",
    "plt.plot(y_pos,np.ones(len(ls_F1_mean))/2, color = 'orange', label = 'accuracy = 0.5')\n",
    "\n",
    "plt.plot(y_pos,ls_n_F1_mean, color = 'b',linestyle = '--',label = 'F1_mean_cross_entities = 0.641540')\n",
    "\n",
    "\n",
    "\n",
    "plt.xticks(y_pos, ls_entity,rotation='vertical')\n",
    "plt.ylabel('accuracy')\n",
    "plt.title('accuracy of prediction sorted by n_sentence')\n",
    "\n",
    "plt.grid()\n",
    "plt.legend() \n",
    "plt.savefig('accuracy of prediction sort by n_sentence_all_1235.jpg')"
   ]
  },
  {
   "cell_type": "code",
   "execution_count": 96,
   "metadata": {
    "collapsed": true
   },
   "outputs": [],
   "source": [
    "# sorted by F1_mean + smooth by moving average 7\n",
    "ls_entity = df_sorted['entity_type'].values\n",
    "ls_F1_mean = df_sorted['F1_mean'].values\n",
    "ls_F1_std = df_sorted['F1_std'].values\n",
    "ls_R = df_sorted['R'].values\n",
    "ls_P = df_sorted['P'].values\n",
    "\n",
    "ls_n_sentence = df_sorted['n_sentence'].values\n",
    "max_sentence = max(ls_n_sentence)\n",
    "ls_n_sentence = ls_n_sentence/max_sentence\n",
    "ls_n_sentence = moving_average(ls_n_sentence,7)\n",
    "\n",
    "\n",
    "\n",
    "y_pos = np.arange(len(ls_F1_mean))\n",
    "\n",
    "fig, ax = plt.subplots(figsize=(150,20)) \n",
    "plt.bar(y_pos, ls_F1_mean, align='center', alpha=0.5, label = 'mean of F1 in 5_folds')\n",
    "plt.plot(y_pos,ls_F1_std, color = 'b', label = 'std of F1 in 5_folds')\n",
    "# plt.plot(y_pos,ls_R, color = 'black', label = 'mean of R  in 5_folds')\n",
    "# plt.plot(y_pos,ls_P, color = 'g', label = 'mean of P  in 5_folds')\n",
    "plt.plot(y_pos,ls_n_sentence, color = 'r', label = 'n_sentence')\n",
    "plt.plot(y_pos,np.ones(len(ls_F1_mean)), color = 'orange', label = 'accuracy = 1')\n",
    "plt.plot(y_pos,np.ones(len(ls_F1_mean))/2, color = 'orange', label = 'accuracy = 0.5')\n",
    "\n",
    "ls_n_sentence_mean = (1309/24779) * np.ones(len(ls_F1_mean))\n",
    "ls_n_F1_mean = 0.640906 * np.ones(len(ls_F1_mean))\n",
    "plt.plot(y_pos,ls_n_F1_mean, color = 'b',linestyle = '--',label = 'F1_mean_cross_entities')\n",
    "plt.plot(y_pos,ls_n_sentence_mean, color = 'r',linestyle ='--',label = 'n_sentence_mean')\n",
    "\n",
    "\n",
    "plt.xticks(y_pos, ls_entity,rotation='vertical')\n",
    "plt.ylabel('accuracy')\n",
    "plt.title('moving average')\n",
    "\n",
    "plt.grid()\n",
    "plt.legend() \n",
    "plt.savefig('accuracy of prediction_moving average1.jpg')"
   ]
  },
  {
   "cell_type": "code",
   "execution_count": 97,
   "metadata": {
    "collapsed": true
   },
   "outputs": [],
   "source": [
    "# sorted by F1_mean + smooth by median average 7\n",
    "ls_entity = df_sorted['entity_type'].values\n",
    "ls_F1_mean = df_sorted['F1_mean'].values\n",
    "ls_F1_std = df_sorted['F1_std'].values\n",
    "ls_R = df_sorted['R'].values\n",
    "ls_P = df_sorted['P'].values\n",
    "\n",
    "ls_n_sentence = df_sorted['n_sentence'].values\n",
    "max_sentence = max(ls_n_sentence)\n",
    "ls_n_sentence = ls_n_sentence/max_sentence\n",
    "ls_n_sentence = running_median(ls_n_sentence,7)\n",
    "\n",
    "y_pos = np.arange(len(ls_F1_mean))\n",
    "\n",
    "fig, ax = plt.subplots(figsize=(150,20)) \n",
    "plt.bar(y_pos, ls_F1_mean, align='center', alpha=0.5, label = 'mean of F1 in 5_folds')\n",
    "plt.plot(y_pos,ls_F1_std, color = 'b', label = 'std of F1 in 5_folds')\n",
    "# plt.plot(y_pos,ls_R, color = 'black', label = 'mean of R  in 5_folds')\n",
    "# plt.plot(y_pos,ls_P, color = 'g', label = 'mean of P  in 5_folds')\n",
    "plt.plot(y_pos,ls_n_sentence, color = 'r', label = 'n_sentence')\n",
    "plt.plot(y_pos,np.ones(len(ls_F1_mean)), color = 'orange', label = 'accuracy = 1')\n",
    "plt.plot(y_pos,np.ones(len(ls_F1_mean))/2, color = 'orange', label = 'accuracy = 0.5')\n",
    "\n",
    "\n",
    "ls_n_sentence_mean = (1309/24779) * np.ones(len(ls_F1_mean))\n",
    "ls_n_F1_mean = 0.640906 * np.ones(len(ls_F1_mean))\n",
    "plt.plot(y_pos,ls_n_F1_mean, color = 'b',linestyle = '--',label = 'F1_mean_cross_entities')\n",
    "plt.plot(y_pos,ls_n_sentence_mean, color = 'r',linestyle ='--',label = 'n_sentence_mean')\n",
    "\n",
    "\n",
    "plt.xticks(y_pos, ls_entity,rotation='vertical')\n",
    "plt.ylabel('accuracy')\n",
    "plt.title('moving median')\n",
    "\n",
    "plt.grid()\n",
    "plt.legend() \n",
    "plt.savefig('accuracy of prediction_moving median1.jpg')"
   ]
  },
  {
   "cell_type": "code",
   "execution_count": 94,
   "metadata": {
    "collapsed": true
   },
   "outputs": [],
   "source": [
    "def moving_average(ls, window_size):\n",
    "    avg_mask = np.ones(window_size) / window_size\n",
    "    y_avg = np.convolve(ls, avg_mask, 'same')\n",
    "    return y_avg\n",
    "\n",
    "def running_median(seq, window_size):\n",
    "    from collections import deque\n",
    "    result = []\n",
    "    window = deque()\n",
    "    for item in seq:\n",
    "        window.append(item)\n",
    "        if len(window) > window_size:\n",
    "            window.popleft()\n",
    "        m = sorted(window)[len(window)//2]\n",
    "        result.append(m)\n",
    "    return np.asarray(result)\n"
   ]
  },
  {
   "cell_type": "code",
   "execution_count": 36,
   "metadata": {},
   "outputs": [
    {
     "data": {
      "image/png": "[encoded data removed]",
      "text/plain": [
       "<matplotlib.figure.Figure at 0x13d88fa58>"
      ]
     },
     "metadata": {},
     "output_type": "display_data"
    }
   ],
   "source": [
    "# average moving smooth\n",
    "max_sentence = max(df_sorted['n_document'].values)\n",
    "ls_n_sentence = df_sorted['n_document'].values/max_sentence\n",
    "windows = [5,7,9, 11]\n",
    "y_pos = np.arange(len(ls_n_sentence))\n",
    "for window in windows:\n",
    "    avg_mask = np.ones(window) / window\n",
    "    y_avg = np.convolve(ls_n_sentence, avg_mask, 'same')\n",
    "    plt.plot(y_pos,y_avg + window/20,  label = window )\n",
    "plt.legend()\n",
    "plt.show()"
   ]
  },
  {
   "cell_type": "code",
   "execution_count": 34,
   "metadata": {},
   "outputs": [
    {
     "name": "stdout",
     "output_type": "stream",
     "text": [
      "/Users/liangjianzhong/Desktop/internship/EDL-2018/result\r\n"
     ]
    }
   ],
   "source": [
    "!pwd"
   ]
  },
  {
   "cell_type": "code",
   "execution_count": null,
   "metadata": {
    "collapsed": true
   },
   "outputs": [],
   "source": []
  },
  {
   "cell_type": "code",
   "execution_count": 16,
   "metadata": {},
   "outputs": [
    {
     "data": {
      "text/plain": [
       "['StateCapital108695539',\n",
       " 'NationalCapital108691669',\n",
       " 'Disease114070360',\n",
       " 'Prefecture108626947',\n",
       " 'Continent109254614',\n",
       " 'Brain105481095',\n",
       " 'Dictator110012244',\n",
       " 'Roundhead110540656',\n",
       " 'EdibleFruit107705931',\n",
       " 'Pasha110403768',\n",
       " 'Belemnite101973723',\n",
       " 'PlanetaryNebula109394797',\n",
       " 'Threadfin102610980',\n",
       " 'Bumblebee102209624',\n",
       " 'DestroyerEscort103180732']"
      ]
     },
     "execution_count": 16,
     "metadata": {},
     "output_type": "execute_result"
    }
   ],
   "source": [
    "# find 5 entities for: most sentences, less sentences and medien sentence as the test entities\n",
    "most = df_en.sort_values('n_sentence',ascending=False).head(5)['entity_type'].tolist()\n",
    "medien = df_en.sort_values('n_sentence',ascending=False).iloc[int(1000/3):int(1000/3) +5]['entity_type'].tolist()\n",
    "less = df_en.sort_values('n_sentence',ascending=True).head(5)['entity_type'].tolist()\n",
    "fifteen = most+medien+less\n",
    "fifteen"
   ]
  }
 ],
 "metadata": {
  "kernelspec": {
   "display_name": "Python 3",
   "language": "python",
   "name": "python3"
  },
  "language_info": {
   "codemirror_mode": {
    "name": "ipython",
    "version": 3
   },
   "file_extension": ".py",
   "mimetype": "text/x-python",
   "name": "python",
   "nbconvert_exporter": "python",
   "pygments_lexer": "ipython3",
   "version": "3.6.3"
  }
 },
 "nbformat": 4,
 "nbformat_minor": 2
}
