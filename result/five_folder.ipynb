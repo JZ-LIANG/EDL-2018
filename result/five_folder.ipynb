{
 "cells": [
  {
   "cell_type": "code",
   "execution_count": 14,
   "metadata": {},
   "outputs": [],
   "source": [
    "#### for test\n",
    "file_path1 = '/Users/liangjianzhong/Desktop/internship/EDL-2018/data/Abbey102667576.conll'\n",
    "file_path2 = '/Users/liangjianzhong/Desktop/internship/EDL-2018/data/AbsorptionIndicator114598383.conll'\n",
    "file_path3 = '/Users/liangjianzhong/Desktop/internship/EDL-2018/data/Abstractionist109758424.conll'\n",
    "with open(file_path1, \"rb\") as f_read:\n",
    "    lt_abbey = f_read.readlines()\n",
    "with open(file_path2, \"rb\") as f_read:\n",
    "    lt_absorptionIndicator = f_read.readlines()\n",
    "with open(file_path3, \"rb\") as f_read:\n",
    "    lt_abstractionist = f_read.readlines()"
   ]
  },
  {
   "cell_type": "code",
   "execution_count": 15,
   "metadata": {
    "scrolled": false
   },
   "outputs": [
    {
     "name": "stdout",
     "output_type": "stream",
     "text": [
      "781 251 1105\n"
     ]
    }
   ],
   "source": [
    "empty_line_indeice1 = [i for i,x in enumerate(lt_abbey) if x == b'\\n']\n",
    "empty_line_indeice2 = [i for i,x in enumerate(lt_absorptionIndicator) if x == b'\\n']\n",
    "empty_line_indeice3 = [i for i,x in enumerate(lt_abstractionist) if x == b'\\n']\n",
    "print(len(empty_line_indeice1),len(empty_line_indeice2),len(empty_line_indeice3))"
   ]
  },
  {
   "cell_type": "code",
   "execution_count": 39,
   "metadata": {},
   "outputs": [],
   "source": [
    "fold_path1 = '/Users/liangjianzhong/Desktop/internship/EDL-2018/data/fold1.conll'\n",
    "fold_path2 = '/Users/liangjianzhong/Desktop/internship/EDL-2018/data/fold2.conll'\n",
    "fold_path3 = '/Users/liangjianzhong/Desktop/internship/EDL-2018/data/fold3.conll'\n",
    "fold_path4 = '/Users/liangjianzhong/Desktop/internship/EDL-2018/data/fold4.conll'\n",
    "fold_path5 = '/Users/liangjianzhong/Desktop/internship/EDL-2018/data/fold5.conll'\n",
    "path = [fold_path1,fold_path2,fold_path3,fold_path4,fold_path5]\n",
    "\n",
    "for i in range(5):\n",
    "    with open(path[i], \"wb+\") as f_write:\n",
    "        f_write.write(b''.join(lt_abbey[:empty_line_indeice1[120*(1+i)]]))\n",
    "        f_write.write(b'\\n')"
   ]
  },
  {
   "cell_type": "code",
   "execution_count": 2,
   "metadata": {
    "collapsed": true
   },
   "outputs": [],
   "source": [
    "import os"
   ]
  },
  {
   "cell_type": "code",
   "execution_count": 26,
   "metadata": {},
   "outputs": [],
   "source": [
    "src_directory = '/Users/liangjianzhong/Downloads/drive-download-20180801T080757Z-001/en'\n",
    "for (dirpath, dirnames, filenames) in os.walk(src_directory):\n",
    "    for filename in filenames:\n",
    "        if(filename[-6:] == '.conll'):\n",
    "            five_folds(dirpath,filename)\n",
    "            \n",
    "        "
   ]
  },
  {
   "cell_type": "code",
   "execution_count": 25,
   "metadata": {
    "collapsed": true
   },
   "outputs": [],
   "source": [
    "def five_folds(dirpath, filename):\n",
    "    file_path = dirpath + '/' + filename\n",
    "    type_name = filename.split('.')[0]\n",
    "    with open(file_path,\"rb\") as f_read:\n",
    "        lt_doc = f_read.readlines()\n",
    "    line_indeice = [i for i,x in enumerate(lt_doc) if x == b'\\n']\n",
    "    n_line = len(line_indeice) - 1\n",
    "    index_location = cut_location(n_line)\n",
    "    ls_files_path = create_directory(type_name)\n",
    "    \n",
    "    with open(ls_files_path[0], \"wb+\") as f_write:\n",
    "        f_write.write(b''.join(lt_doc[0:line_indeice[index_location[1]]]))\n",
    "        f_write.write(b'\\n')\n",
    "    with open(ls_files_path[1], \"wb+\") as f_write:\n",
    "        f_write.write(b''.join(lt_doc[line_indeice[index_location[1]]+1:line_indeice[index_location[2]]]))\n",
    "        f_write.write(b'\\n')    \n",
    "    with open(ls_files_path[2], \"wb+\") as f_write:\n",
    "        f_write.write(b''.join(lt_doc[line_indeice[index_location[2]]+1:line_indeice[index_location[3]]]))\n",
    "        f_write.write(b'\\n')    \n",
    "    with open(ls_files_path[3], \"wb+\") as f_write:\n",
    "        f_write.write(b''.join(lt_doc[line_indeice[index_location[3]]+1:line_indeice[index_location[4]]]))\n",
    "        f_write.write(b'\\n')\n",
    "    with open(ls_files_path[4], \"wb+\") as f_write:\n",
    "        f_write.write(b''.join(lt_doc[line_indeice[index_location[4]]+1:line_indeice[index_location[5]]]))\n",
    "        f_write.write(b'\\n')    "
   ]
  },
  {
   "cell_type": "code",
   "execution_count": 20,
   "metadata": {},
   "outputs": [],
   "source": [
    "def create_directory (type_name):\n",
    "    \n",
    "    # create folder\n",
    "    root_path = '/Users/liangjianzhong/Desktop/internship/folded_rpi/'\n",
    "    directory = root_path + type_name + '/'\n",
    "    try:\n",
    "        os.makedirs(directory)\n",
    "    except:\n",
    "        print(\"error in create directory, program exit\")\n",
    "        exit()\n",
    "   \n",
    "    # create fold file name\n",
    "    ls_files_path = []\n",
    "    for i in range(5):\n",
    "        ls_files_path.append(directory + type_name +'_' + 'fold{}'.format(i) + '.conll')\n",
    "        \n",
    "    return ls_files_path\n",
    "\n",
    "\n",
    "def cut_location(n_line):\n",
    "    cut_location = [int(n_line*(i+1)/5) for i in range(4)]\n",
    "    cut_location.append(-1)\n",
    "    cut_location = [-1] + cut_location\n",
    "    return cut_location"
   ]
  }
 ],
 "metadata": {
  "kernelspec": {
   "display_name": "Python 3",
   "language": "python",
   "name": "python3"
  },
  "language_info": {
   "codemirror_mode": {
    "name": "ipython",
    "version": 3
   },
   "file_extension": ".py",
   "mimetype": "text/x-python",
   "name": "python",
   "nbconvert_exporter": "python",
   "pygments_lexer": "ipython3",
   "version": "3.6.3"
  }
 },
 "nbformat": 4,
 "nbformat_minor": 2
}
